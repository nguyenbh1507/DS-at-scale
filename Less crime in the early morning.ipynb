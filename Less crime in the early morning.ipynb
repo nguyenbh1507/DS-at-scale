{
 "cells": [
  {
   "cell_type": "markdown",
   "metadata": {},
   "source": [
    "# Crime Analytics: Visualization of Incident Reports\n",
    "In this assignment, I will analyze criminal incident data from Seattle or San Francisco to visualize patterns."
   ]
  },
  {
   "cell_type": "markdown",
   "metadata": {},
   "source": [
    "## Import libraries "
   ]
  },
  {
   "cell_type": "code",
   "execution_count": 1,
   "metadata": {},
   "outputs": [],
   "source": [
    "import pandas as pd                 # data manipulation\n",
    "import numpy as np                  # for matrix and vector calculus\n",
    "import matplotlib.pyplot as plt     # for visualisation\n",
    "import seaborn as sns               # for visualisation\n",
    "%matplotlib inline                  "
   ]
  },
  {
   "cell_type": "markdown",
   "metadata": {},
   "source": [
    "## Load data"
   ]
  },
  {
   "cell_type": "code",
   "execution_count": 2,
   "metadata": {},
   "outputs": [
    {
     "name": "stderr",
     "output_type": "stream",
     "text": [
      "/home/hung/anaconda3/lib/python3.6/site-packages/IPython/core/interactiveshell.py:2728: DtypeWarning: Columns (9) have mixed types. Specify dtype option on import or set low_memory=False.\n",
      "  interactivity=interactivity, compiler=compiler, result=result)\n"
     ]
    }
   ],
   "source": [
    "sanDF = pd.read_csv('sanfrancisco_incidents_summer_2014.csv')\n",
    "seatDF = pd.read_csv('seattle_incidents_summer_2014.csv')"
   ]
  },
  {
   "cell_type": "markdown",
   "metadata": {},
   "source": [
    "### First insight look"
   ]
  },
  {
   "cell_type": "code",
   "execution_count": 3,
   "metadata": {
    "scrolled": true
   },
   "outputs": [
    {
     "name": "stdout",
     "output_type": "stream",
     "text": [
      "<class 'pandas.core.frame.DataFrame'>\n",
      "RangeIndex: 28993 entries, 0 to 28992\n",
      "Data columns (total 13 columns):\n",
      "IncidntNum    28993 non-null int64\n",
      "Category      28993 non-null object\n",
      "Descript      28993 non-null object\n",
      "DayOfWeek     28993 non-null object\n",
      "Date          28993 non-null object\n",
      "Time          28993 non-null object\n",
      "PdDistrict    28993 non-null object\n",
      "Resolution    28993 non-null object\n",
      "Address       28993 non-null object\n",
      "X             28993 non-null float64\n",
      "Y             28993 non-null float64\n",
      "Location      28993 non-null object\n",
      "PdId          28993 non-null int64\n",
      "dtypes: float64(2), int64(2), object(9)\n",
      "memory usage: 2.9+ MB\n"
     ]
    }
   ],
   "source": [
    "sanDF.info()"
   ]
  },
  {
   "cell_type": "code",
   "execution_count": 7,
   "metadata": {},
   "outputs": [
    {
     "data": {
      "text/html": [
       "<div>\n",
       "<style scoped>\n",
       "    .dataframe tbody tr th:only-of-type {\n",
       "        vertical-align: middle;\n",
       "    }\n",
       "\n",
       "    .dataframe tbody tr th {\n",
       "        vertical-align: top;\n",
       "    }\n",
       "\n",
       "    .dataframe thead th {\n",
       "        text-align: right;\n",
       "    }\n",
       "</style>\n",
       "<table border=\"1\" class=\"dataframe\">\n",
       "  <thead>\n",
       "    <tr style=\"text-align: right;\">\n",
       "      <th></th>\n",
       "      <th>IncidntNum</th>\n",
       "      <th>Category</th>\n",
       "      <th>Descript</th>\n",
       "      <th>DayOfWeek</th>\n",
       "      <th>Date</th>\n",
       "      <th>Time</th>\n",
       "      <th>PdDistrict</th>\n",
       "      <th>Resolution</th>\n",
       "      <th>Address</th>\n",
       "      <th>X</th>\n",
       "      <th>Y</th>\n",
       "      <th>Location</th>\n",
       "      <th>PdId</th>\n",
       "    </tr>\n",
       "  </thead>\n",
       "  <tbody>\n",
       "    <tr>\n",
       "      <th>0</th>\n",
       "      <td>140734311</td>\n",
       "      <td>ARSON</td>\n",
       "      <td>ARSON OF A VEHICLE</td>\n",
       "      <td>Sunday</td>\n",
       "      <td>08/31/2014</td>\n",
       "      <td>23:50</td>\n",
       "      <td>BAYVIEW</td>\n",
       "      <td>NONE</td>\n",
       "      <td>LOOMIS ST / INDUSTRIAL ST</td>\n",
       "      <td>-122.405647</td>\n",
       "      <td>37.738322</td>\n",
       "      <td>(37.7383221869053, -122.405646994567)</td>\n",
       "      <td>14073431126031</td>\n",
       "    </tr>\n",
       "    <tr>\n",
       "      <th>1</th>\n",
       "      <td>140736317</td>\n",
       "      <td>NON-CRIMINAL</td>\n",
       "      <td>LOST PROPERTY</td>\n",
       "      <td>Sunday</td>\n",
       "      <td>08/31/2014</td>\n",
       "      <td>23:45</td>\n",
       "      <td>MISSION</td>\n",
       "      <td>NONE</td>\n",
       "      <td>400 Block of CASTRO ST</td>\n",
       "      <td>-122.435012</td>\n",
       "      <td>37.761768</td>\n",
       "      <td>(37.7617677182954, -122.435012093789)</td>\n",
       "      <td>14073631771000</td>\n",
       "    </tr>\n",
       "  </tbody>\n",
       "</table>\n",
       "</div>"
      ],
      "text/plain": [
       "   IncidntNum      Category            Descript DayOfWeek        Date   Time  \\\n",
       "0   140734311         ARSON  ARSON OF A VEHICLE    Sunday  08/31/2014  23:50   \n",
       "1   140736317  NON-CRIMINAL       LOST PROPERTY    Sunday  08/31/2014  23:45   \n",
       "\n",
       "  PdDistrict Resolution                    Address           X          Y  \\\n",
       "0    BAYVIEW       NONE  LOOMIS ST / INDUSTRIAL ST -122.405647  37.738322   \n",
       "1    MISSION       NONE     400 Block of CASTRO ST -122.435012  37.761768   \n",
       "\n",
       "                                Location            PdId  \n",
       "0  (37.7383221869053, -122.405646994567)  14073431126031  \n",
       "1  (37.7617677182954, -122.435012093789)  14073631771000  "
      ]
     },
     "execution_count": 7,
     "metadata": {},
     "output_type": "execute_result"
    }
   ],
   "source": [
    "sanDF.head(2)"
   ]
  },
  {
   "cell_type": "code",
   "execution_count": 5,
   "metadata": {},
   "outputs": [
    {
     "name": "stdout",
     "output_type": "stream",
     "text": [
      "<class 'pandas.core.frame.DataFrame'>\n",
      "RangeIndex: 32779 entries, 0 to 32778\n",
      "Data columns (total 19 columns):\n",
      "RMS CDW ID                           32779 non-null int64\n",
      "General Offense Number               32779 non-null int64\n",
      "Offense Code                         32779 non-null object\n",
      "Offense Code Extension               32779 non-null int64\n",
      "Offense Type                         32779 non-null object\n",
      "Summary Offense Code                 32779 non-null object\n",
      "Summarized Offense Description       32779 non-null object\n",
      "Date Reported                        32779 non-null object\n",
      "Occurred Date or Date Range Start    32779 non-null object\n",
      "Occurred Date Range End              16499 non-null object\n",
      "Hundred Block Location               32779 non-null object\n",
      "District/Sector                      32722 non-null object\n",
      "Zone/Beat                            32723 non-null object\n",
      "Census Tract 2000                    32645 non-null float64\n",
      "Longitude                            32779 non-null float64\n",
      "Latitude                             32779 non-null float64\n",
      "Location                             32779 non-null object\n",
      "Month                                32779 non-null int64\n",
      "Year                                 32779 non-null int64\n",
      "dtypes: float64(3), int64(5), object(11)\n",
      "memory usage: 4.8+ MB\n"
     ]
    }
   ],
   "source": [
    "seatDF.info()"
   ]
  },
  {
   "cell_type": "code",
   "execution_count": 8,
   "metadata": {},
   "outputs": [
    {
     "data": {
      "text/html": [
       "<div>\n",
       "<style scoped>\n",
       "    .dataframe tbody tr th:only-of-type {\n",
       "        vertical-align: middle;\n",
       "    }\n",
       "\n",
       "    .dataframe tbody tr th {\n",
       "        vertical-align: top;\n",
       "    }\n",
       "\n",
       "    .dataframe thead th {\n",
       "        text-align: right;\n",
       "    }\n",
       "</style>\n",
       "<table border=\"1\" class=\"dataframe\">\n",
       "  <thead>\n",
       "    <tr style=\"text-align: right;\">\n",
       "      <th></th>\n",
       "      <th>RMS CDW ID</th>\n",
       "      <th>General Offense Number</th>\n",
       "      <th>Offense Code</th>\n",
       "      <th>Offense Code Extension</th>\n",
       "      <th>Offense Type</th>\n",
       "      <th>Summary Offense Code</th>\n",
       "      <th>Summarized Offense Description</th>\n",
       "      <th>Date Reported</th>\n",
       "      <th>Occurred Date or Date Range Start</th>\n",
       "      <th>Occurred Date Range End</th>\n",
       "      <th>Hundred Block Location</th>\n",
       "      <th>District/Sector</th>\n",
       "      <th>Zone/Beat</th>\n",
       "      <th>Census Tract 2000</th>\n",
       "      <th>Longitude</th>\n",
       "      <th>Latitude</th>\n",
       "      <th>Location</th>\n",
       "      <th>Month</th>\n",
       "      <th>Year</th>\n",
       "    </tr>\n",
       "  </thead>\n",
       "  <tbody>\n",
       "    <tr>\n",
       "      <th>0</th>\n",
       "      <td>483839</td>\n",
       "      <td>2015218538</td>\n",
       "      <td>2202</td>\n",
       "      <td>0</td>\n",
       "      <td>BURGLARY-FORCE-RES</td>\n",
       "      <td>2200</td>\n",
       "      <td>BURGLARY</td>\n",
       "      <td>06/28/2015 10:31:00 AM</td>\n",
       "      <td>06/28/2014 10:31:00 AM</td>\n",
       "      <td>06/28/2015 10:31:00 AM</td>\n",
       "      <td>6XX BLOCK OF NW 74 ST</td>\n",
       "      <td>J</td>\n",
       "      <td>J2</td>\n",
       "      <td>2900.3013</td>\n",
       "      <td>-122.364672</td>\n",
       "      <td>47.682524</td>\n",
       "      <td>(47.68252427, -122.364671996)</td>\n",
       "      <td>6</td>\n",
       "      <td>2014</td>\n",
       "    </tr>\n",
       "    <tr>\n",
       "      <th>1</th>\n",
       "      <td>481252</td>\n",
       "      <td>2015213067</td>\n",
       "      <td>2610</td>\n",
       "      <td>0</td>\n",
       "      <td>FRAUD-IDENTITY THEFT</td>\n",
       "      <td>2600</td>\n",
       "      <td>FRAUD</td>\n",
       "      <td>06/24/2015 11:09:00 AM</td>\n",
       "      <td>06/01/2014 12:00:00 AM</td>\n",
       "      <td>06/24/2015 11:09:00 AM</td>\n",
       "      <td>23XX BLOCK OF 43 AV E</td>\n",
       "      <td>C</td>\n",
       "      <td>C2</td>\n",
       "      <td>6300.1004</td>\n",
       "      <td>-122.277080</td>\n",
       "      <td>47.639901</td>\n",
       "      <td>(47.639900761, -122.277080248)</td>\n",
       "      <td>6</td>\n",
       "      <td>2014</td>\n",
       "    </tr>\n",
       "  </tbody>\n",
       "</table>\n",
       "</div>"
      ],
      "text/plain": [
       "   RMS CDW ID  General Offense Number Offense Code  Offense Code Extension  \\\n",
       "0      483839              2015218538         2202                       0   \n",
       "1      481252              2015213067         2610                       0   \n",
       "\n",
       "           Offense Type Summary Offense Code Summarized Offense Description  \\\n",
       "0    BURGLARY-FORCE-RES                 2200                       BURGLARY   \n",
       "1  FRAUD-IDENTITY THEFT                 2600                          FRAUD   \n",
       "\n",
       "            Date Reported Occurred Date or Date Range Start  \\\n",
       "0  06/28/2015 10:31:00 AM            06/28/2014 10:31:00 AM   \n",
       "1  06/24/2015 11:09:00 AM            06/01/2014 12:00:00 AM   \n",
       "\n",
       "  Occurred Date Range End Hundred Block Location District/Sector Zone/Beat  \\\n",
       "0  06/28/2015 10:31:00 AM  6XX BLOCK OF NW 74 ST               J        J2   \n",
       "1  06/24/2015 11:09:00 AM  23XX BLOCK OF 43 AV E               C        C2   \n",
       "\n",
       "   Census Tract 2000   Longitude   Latitude                        Location  \\\n",
       "0          2900.3013 -122.364672  47.682524   (47.68252427, -122.364671996)   \n",
       "1          6300.1004 -122.277080  47.639901  (47.639900761, -122.277080248)   \n",
       "\n",
       "   Month  Year  \n",
       "0      6  2014  \n",
       "1      6  2014  "
      ]
     },
     "execution_count": 8,
     "metadata": {},
     "output_type": "execute_result"
    }
   ],
   "source": [
    "seatDF.head(2)"
   ]
  },
  {
   "cell_type": "markdown",
   "metadata": {},
   "source": [
    "Both datasets have several common columns: incident id, type/category, description, date-time occuring, address, latitude, longitude."
   ]
  },
  {
   "cell_type": "markdown",
   "metadata": {},
   "source": [
    "### Reload and parse date, time"
   ]
  },
  {
   "cell_type": "code",
   "execution_count": 9,
   "metadata": {},
   "outputs": [],
   "source": [
    "sanDF = pd.read_csv('sanfrancisco_incidents_summer_2014.csv',\n",
    "                    parse_dates=['Date', 'Time'],\n",
    "                    infer_datetime_format=True)\n",
    "\n",
    "seatDF = pd.read_csv('seattle_incidents_summer_2014.csv', \n",
    "                     parse_dates=['Date Reported', \n",
    "                                  'Occurred Date or Date Range Start',\n",
    "                                  'Occurred Date Range End'],\n",
    "                    infer_datetime_format=True)"
   ]
  },
  {
   "cell_type": "markdown",
   "metadata": {},
   "source": [
    "### Test if any record outside of summer 2014"
   ]
  },
  {
   "cell_type": "code",
   "execution_count": 10,
   "metadata": {},
   "outputs": [
    {
     "name": "stdout",
     "output_type": "stream",
     "text": [
      "Sanfrancisco, earliest day: 2014-06-01 00:00:00\n",
      "Sanfrancisco, latest day: 2014-08-31 00:00:00\n",
      "Seattle, earliest day: 2014-06-01 00:00:00\n",
      "Seattle, latest day: 2014-08-31 23:50:00\n"
     ]
    }
   ],
   "source": [
    "print(\"Sanfrancisco, earliest day:\", sanDF.Date.min())\n",
    "print(\"Sanfrancisco, latest day:\", sanDF.Date.max())\n",
    "print(\"Seattle, earliest day:\", seatDF['Occurred Date or Date Range Start'].min())\n",
    "print(\"Seattle, latest day:\", seatDF['Occurred Date or Date Range Start'].max())"
   ]
  },
  {
   "cell_type": "markdown",
   "metadata": {},
   "source": [
    "As we can see, all incidents occured in summer 2014, though they could be repoted later."
   ]
  },
  {
   "cell_type": "markdown",
   "metadata": {},
   "source": [
    "## Data analytics and visualization\n",
    "### Overall numbers by category\n",
    "Check if categories are the same for the two cities:"
   ]
  },
  {
   "cell_type": "code",
   "execution_count": 12,
   "metadata": {
    "scrolled": true
   },
   "outputs": [
    {
     "name": "stdout",
     "output_type": "stream",
     "text": [
      "Sanfransico incident categories:\n",
      " ['ARSON' 'NON-CRIMINAL' 'LARCENY/THEFT' 'DRUG/NARCOTIC'\n",
      " 'DRIVING UNDER THE INFLUENCE' 'OTHER OFFENSES' 'TRESPASS' 'VEHICLE THEFT'\n",
      " 'ASSAULT' 'FRAUD' 'SUSPICIOUS OCC' 'SECONDARY CODES' 'WEAPON LAWS'\n",
      " 'MISSING PERSON' 'WARRANTS' 'ROBBERY' 'DRUNKENNESS' 'PROSTITUTION'\n",
      " 'LIQUOR LAWS' 'KIDNAPPING' 'FAMILY OFFENSES' 'LOITERING'\n",
      " 'DISORDERLY CONDUCT' 'FORGERY/COUNTERFEITING' 'EMBEZZLEMENT' 'BURGLARY'\n",
      " 'SUICIDE' 'VANDALISM' 'STOLEN PROPERTY' 'RUNAWAY' 'GAMBLING' 'EXTORTION'\n",
      " 'PORNOGRAPHY/OBSCENE MAT' 'BRIBERY'] \n",
      " ================================================================================\n",
      "Seattle incident types:\n",
      " ['BURGLARY-FORCE-RES' 'FRAUD-IDENTITY THEFT' 'THEFT-MAIL' 'COUNTERFEIT'\n",
      " 'THEFT-OTH' 'THEFT-BUILDING' 'FRAUD-CREDIT CARD' 'FRAUD-CHECK' 'EMBEZZLE'\n",
      " 'BURGLARY-NOFORCE-NONRES' 'FRAUD-OTHER' 'THEFT-CARPROWL' 'HARASSMENT'\n",
      " 'THEFT-AUTOACC' 'BURGLARY-NOFORCE-RES' 'PROPERTY DAMAGE-NON RESIDENTIA'\n",
      " 'THEFT-LICENSE PLATE' 'PROPERTY LOST' 'FORGERY-CHECK' 'VEH-THEFT-AUTO'\n",
      " 'BURGLARY-SECURE PARKING-RES' 'THEFT-PKPOCKET' 'THREATS-OTHER'\n",
      " 'PROPERTY LOST - POLICE EQUIPME' 'THEFT-BICYCLE'\n",
      " 'VEH-RCVD-FOR OTHER AGENCY' 'VEH-THEFT-MTRCYCLE' 'NARC-SELL-HEROIN'\n",
      " 'DISPUTE-CIVIL PROPERTY (NON AU' 'VEH-THEFT-TRAILER' 'ASSLT-AGG-WEAPON'\n",
      " 'PROPERTY FOUND' 'THREATS-KILL' 'DISPUTE-OTH' 'WARRARR-MISDEMEANOR'\n",
      " 'ASSLT-AGG-BODYFORCE' 'PROPERTY DAMAGE-RESIDENTIAL' 'VEH-THEFT-TRUCK'\n",
      " 'PROPERTY DAMAGE - GRAFFITI' 'THEFT-AUTO PARTS' 'ASSLT-NONAGG'\n",
      " 'FRAUD-WIRE-ELECTRONIC' 'TRAFFIC' 'BURGLARY-FORCE-NONRES'\n",
      " 'PROPERTY STOLEN-TRAFFICKING' 'THEFT-SHOPLIFT' 'DISTURBANCE-OTH'\n",
      " 'VIOL-COURT ORDER' 'ILLEGAL DUMPING' 'PROSTITUTION-ASSIST-PROMOTE'\n",
      " 'ROBBERY-STREET-BODYFORCE' 'THEFT-BOAT' 'TRESPASS'\n",
      " 'PROPERTY STOLEN-POSSESS' 'THREATS-WEAPON' 'ROBBERY-BUSINESS-BODYFORCE'\n",
      " 'LIQUOR LAW VIOLATION' 'BIAS INCIDENT' 'THEFT OF SERVICES'\n",
      " 'DISTURBANCE-NOISE' 'ASSLT-AGG-POLICE-GUN' 'HOMICIDE-JUST-WEAPON'\n",
      " 'PROP RECOVERED-OTHER AGENCY' 'OBSTRUCT' 'ROBBERY-BANK-WEAPON'\n",
      " 'NARC-FOUND-OTHER' 'DISPUTE-CIVIL PROPERTY (AUTO)' 'DRIVE-BY'\n",
      " 'ROBBERY-BUSINESS-WEAPON' 'RECKLESS BURNING' 'ASSLT-NONAGG-POLICE'\n",
      " 'INJURY - ACCIDENTAL' 'NARC-POSSESS-HALLUCINOGEN' 'NARC-POSSESS-METH'\n",
      " 'WARRARR-FELONY' 'ROBBERY-STREET-GUN' 'NARC-FOUND-MARIJU'\n",
      " 'ROBBERY-RESIDENCE-BODYFORCE' 'NARC-POSSESS-COCAINE' 'INJURY - OTHER'\n",
      " 'BURGLARY-SECURE PARKING-NONRES' 'NARC-EQUIPMENT/PARAPHENALIA'\n",
      " 'WEAPON-POSSESSION' 'NARC-POSSESS-AMPHETAMINE' 'THEFT-PRSNATCH'\n",
      " 'NARC-POSSESS-HEROIN' 'FALSE REPORT' 'ROBBERY-STREET-WEAPON'\n",
      " 'WARRANT-FUGITIVE' 'ELUDING-FELONY FLIGHT' 'ASSLT-AGG-GUN'\n",
      " 'WEAPON-DISCHARGE' 'NARC-SELL-COCAINE' 'ANIMAL-OTH'\n",
      " 'NARC-FOUND-AMPHETAMINE' 'FRAUD-COMPUTER' 'NARC-FOUND-HEROIN'\n",
      " 'ANIMAL-BITE' 'ANIMAL-CRUELTY' 'ENDANGERMENT'\n",
      " 'PORNOGRAPHY-OBSCENE MATERIAL' 'NARC-POSSESS-OTHER' 'NARC-SELL-METH'\n",
      " 'THEFT-COINOP' 'DUI-LIQUOR' 'ROBBERY-BUSINESS-GUN' 'NARC-FOUND-SYNTHETIC'\n",
      " 'NARC-POSSESS-MARIJU' 'FORGERY-OTH' 'NARC-FOUND-COCAINE' 'PROSTITUTION'\n",
      " 'ASSLT-AGG-POLICE-WEAPON' 'MALICIOUS HARASSMENT' 'DUI-DRUGS'\n",
      " 'WEAPON-UNLAWFUL USE' 'ROBBERY-RESIDENCE-WEAPON' 'FIREWORK-USE'\n",
      " 'PROSTITUTION PATRONIZING' 'PROSTITUTION LOITERING' 'HOMICIDE-JUST-GUN'\n",
      " 'ROBBERY-BANK-GUN' 'NARC-FORGERY-PRESCRIPTION' '[INC - CASE DC USE ONLY]'\n",
      " 'WEAPON-CONCEALED' 'NARC-SELL-AMPHETAMINE' 'ROBBERY-RESIDENCE-GUN'\n",
      " 'URINATING/DEFECATING-IN PUBLIC' 'VEH-THEFT-OTHVEH'\n",
      " 'ROBBERY-BANK-BODYFORCE' 'NARC-DRUG TRAFFIC LOITERING' 'NARC-FOUND-OPIUM'\n",
      " 'ASSLT-AGG-POLICE-BODYFORCE' 'NARC-POSSESS-PILL/TABLET'\n",
      " 'PROPERTY STOLEN-SELL' 'FIREWORK-POSSESS'\n",
      " 'WEAPON-SURRENDER-EXCLUDING FIR' 'DISORDERLY CONDUCT' 'NARC-FOUND-METH'\n",
      " 'NARC-FRAUD-PRESCRIPTION' 'NARC-SMUGGLE-OTHER' 'ESCAPE'\n",
      " 'NARC-SELL-SYNTHETIC' 'FORGERY-CREDIT CARD' 'NARC-SELL-MARIJU'\n",
      " 'HOMICIDE-PREMEDITATED-GUN' 'NARC-PRODUCE-MARIJU' 'WEAPON-SELLING']\n"
     ]
    }
   ],
   "source": [
    "print(\"Sanfransico incident categories:\\n\", sanDF.Category.unique(),\"\\n\", \"=\"*80)\n",
    "print(\"Seattle incident types:\\n\", seatDF['Offense Type'].unique())"
   ]
  },
  {
   "cell_type": "markdown",
   "metadata": {},
   "source": [
    "The categories are not the same. We can map incident types of Seattle and Sanfransico categories to the same smaller set. Sanfrancisco has incidents with category \"NON-CRIMINAL\", but Seattle does not.<br>\n",
    "Source for mapping: http://www.legalmatch.com/law-library/article/what-are-the-different-types-of-crimes.html"
   ]
  },
  {
   "cell_type": "code",
   "execution_count": 13,
   "metadata": {},
   "outputs": [],
   "source": [
    "map_categories = {\n",
    "'[INC - CASE DC USE ONLY]': 'OTHER OFFENSES',\n",
    "'ANIMAL COMPLAINT': 'OTHER OFFENSES',\n",
    "'ARSON': 'PROPERTY',\n",
    "'ASSAULT': 'PERSONAL',\n",
    "'BIAS INCIDENT': 'INCHOATE',\n",
    "'BIKE THEFT': 'PROPERTY',\n",
    "'BRIBERY': 'PROPERTY',\n",
    "'BURGLARY': 'PROPERTY',\n",
    "'BURGLARY-SECURE PARKING-RES': 'PROPERTY',\n",
    "'CAR PROWL': 'INCHOATE',\n",
    "'COUNTERFEIT': 'PROPERTY',\n",
    "'DISORDERLY CONDUCT': 'INCHOATE',\n",
    "'DISPUTE': 'INCHOATE',\n",
    "'DISTURBANCE': 'INCHOATE',\n",
    "'DRIVING UNDER THE INFLUENCE': 'STATUTORY',\n",
    "'DRUG/NARCOTIC': 'STATUTORY',\n",
    "'DRUNKENNESS': 'STATUTORY',\n",
    "'DUI': 'STATUTORY',\n",
    "'ELUDING': 'INCHOATE',\n",
    "'EMBEZZLE': 'PROPERTY',\n",
    "'EMBEZZLEMENT': 'PROPERTY',\n",
    "'ESCAPE': 'STATUTORY',\n",
    "'EXTORTION': 'INCHOATE',\n",
    "'FALSE REPORT': 'INCHOATE',\n",
    "'FAMILY OFFENSES': 'INCHOATE',\n",
    "'FIREWORK': 'PROPERTY',\n",
    "'FORGERY': 'PROPERTY',\n",
    "'FORGERY/COUNTERFEITING': 'PROPERTY',\n",
    "'FRAUD': 'PROPERTY',\n",
    "'GAMBLING': 'PROPERTY',\n",
    "'HOMICIDE': 'PERSONAL',\n",
    "'ILLEGAL DUMPING': 'STATUTORY',\n",
    "'INJURY': 'PERSONAL',\n",
    "'KIDNAPPING': 'PERSONAL',\n",
    "'LARCENY/THEFT': 'PROPERTY',\n",
    "'LIQUOR LAWS': 'STATUTORY',\n",
    "'LIQUOR VIOLATION': 'STATUTORY',\n",
    "'LOITERING': 'INCHOATE',\n",
    "'LOST PROPERTY': 'PROPERTY',\n",
    "'MAIL THEFT': 'PROPERTY',\n",
    "'MISSING PERSON': 'PERSONAL',\n",
    "'NARCOTICS': 'STATUTORY',\n",
    "'NON-CRIMINAL': 'NON-CRIMINAL',\n",
    "'OBSTRUCT': 'PROPERTY',\n",
    "'OTHER OFFENSES': 'OTHER OFFENSES',\n",
    "'OTHER PROPERTY': 'PROPERTY',\n",
    "'PICKPOCKET': 'PROPERTY',\n",
    "'PORNOGRAPHY': 'INCHOATE',\n",
    "'PORNOGRAPHY/OBSCENE MAT': 'INCHOATE',\n",
    "'PROPERTY DAMAGE': 'PROPERTY',\n",
    "'PROSTITUTION': 'INCHOATE',\n",
    "'PUBLIC NUISANCE': 'INCHOATE',\n",
    "'PURSE SNATCH': 'PROPERTY',\n",
    "'RECKLESS BURNING': 'PROPERTY',\n",
    "'RECOVERED PROPERTY': 'PROPERTY',\n",
    "'ROBBERY': 'PROPERTY',\n",
    "'RUNAWAY': 'INCHOATE',\n",
    "'SECONDARY CODES': 'STATUTORY',\n",
    "'SHOPLIFTING': 'PROPERTY',\n",
    "'STOLEN PROPERTY': 'PROPERTY',\n",
    "'SUICIDE': 'PERSONAL',\n",
    "'SUSPICIOUS OCC': 'PROPERTY',\n",
    "'THEFT OF SERVICES': 'PROPERTY',\n",
    "'THREATS': 'INCHOATE',\n",
    "'TRAFFIC': 'STATUTORY',\n",
    "'TRESPASS': 'INCHOATE',\n",
    "'VANDALISM': 'PROPERTY',\n",
    "'VEHICLE THEFT': 'PROPERTY',\n",
    "'VIOLATION OF COURT ORDER': 'STATUTORY',\n",
    "'WARRANT ARREST': 'STATUTORY',\n",
    "'WARRANTS': 'STATUTORY',\n",
    "'WEAPON': 'STATUTORY',\n",
    "'WEAPON LAWS': 'STATUTORY'\n",
    "}"
   ]
  },
  {
   "cell_type": "code",
   "execution_count": 14,
   "metadata": {},
   "outputs": [],
   "source": [
    "# map to smaller category set\n",
    "seatDF['Incident Category'] = seatDF['Summarized Offense Description']\\\n",
    "                                    .apply(lambda col: map_categories[col])\n",
    "sanDF['Incident Category'] = sanDF['Category']\\\n",
    "                                  .apply(lambda col: map_categories[col])"
   ]
  },
  {
   "cell_type": "code",
   "execution_count": 138,
   "metadata": {
    "scrolled": false
   },
   "outputs": [
    {
     "data": {
      "text/plain": [
       "<matplotlib.axes._subplots.AxesSubplot at 0x7f7287419898>"
      ]
     },
     "execution_count": 138,
     "metadata": {},
     "output_type": "execute_result"
    },
    {
     "data": {
      "image/png": "[encoded data removed]",
      "text/plain": [
       "<matplotlib.figure.Figure at 0x7f7286fb4278>"
      ]
     },
     "metadata": {},
     "output_type": "display_data"
    }
   ],
   "source": [
    "# Merge for grpah, ignore NON-CRIMINAL category\n",
    "catDF = sanDF['Incident Category'].value_counts().reset_index()\\\n",
    "        .rename(columns={'Incident Category':'Sanfrancisco','index':'Incident Category'})\\\n",
    "        .merge(seatDF['Incident Category'].value_counts().reset_index()\n",
    "                    .rename(columns={'Incident Category':'Seattle','index':'Incident Category'}),\n",
    "              on='Incident Category')\\\n",
    "        .set_index('Incident Category') \n",
    "\n",
    "# Visulization\n",
    "catDF.plot.bar(rot=0, title='Overall incident count',figsize=(7,5))"
   ]
  },
  {
   "cell_type": "markdown",
   "metadata": {},
   "source": [
    "We can see that there more incidents in Seattle than in Sanfrancisco. In both cities, most of incidents (~50%) are related to \"PROPERTY\". Incident, related to \"PERSONAL\", \"STATUTORY\" and \"OTHER OFFENSES\" in Sanfrancisco are more than in Seattle, while \"PROPERTY\" and \"INCHOATE\" has opposite trend."
   ]
  },
  {
   "cell_type": "markdown",
   "metadata": {},
   "source": [
    "### Overall numbers by hour of date"
   ]
  },
  {
   "cell_type": "code",
   "execution_count": 137,
   "metadata": {
    "scrolled": false
   },
   "outputs": [
    {
     "data": {
      "text/plain": [
       "<matplotlib.axes._subplots.AxesSubplot at 0x7f7287407ba8>"
      ]
     },
     "execution_count": 137,
     "metadata": {},
     "output_type": "execute_result"
    },
    {
     "data": {
      "image/png": "[encoded data removed]",
      "text/plain": [
       "<matplotlib.figure.Figure at 0x7f7287419860>"
      ]
     },
     "metadata": {},
     "output_type": "display_data"
    }
   ],
   "source": [
    "hourDF = sanDF.Time.apply(lambda x: x.hour).value_counts().reset_index()\n",
    "hourDF = hourDF.sort_values('index').rename(columns={'index':'Hour of day', 'Time':'Sanfrancisco'})\n",
    "hourDF2 = seatDF['Occurred Date or Date Range Start'].apply(lambda x: x.hour).value_counts().reset_index()\n",
    "hourDF2 = hourDF2.sort_values('index').rename(columns={'index':'Hour of day', 'Occurred Date or Date Range Start':'Seattle'})\n",
    "hourDF = hourDF.merge(hourDF2, on='Hour of day').set_index('Hour of day')\n",
    "hourDF.plot.line(figsize=(7,5),title=\"Number of incidents by hour\",grid=True, linewidth=3)"
   ]
  },
  {
   "cell_type": "markdown",
   "metadata": {},
   "source": [
    "As we can see that the number of incidents in both cities are less in the morning (2.am-7.am) and high in other moments of the day. In Seattle, the number of incidents are high in midday, midnight and in the late evening (9.pm-10.pm) while in Sanfrancisco, the maximum number is in the late afaternoon (6.pm)."
   ]
  },
  {
   "cell_type": "markdown",
   "metadata": {},
   "source": [
    "### Compare number incidents of two cities by Day of week and Category "
   ]
  },
  {
   "cell_type": "code",
   "execution_count": 139,
   "metadata": {},
   "outputs": [
    {
     "data": {
      "text/plain": [
       "<seaborn.axisgrid.FacetGrid at 0x7f7286bfda20>"
      ]
     },
     "execution_count": 139,
     "metadata": {},
     "output_type": "execute_result"
    },
    {
     "data": {
      "image/png": "[encoded data removed]",
      "text/plain": [
       "<matplotlib.figure.Figure at 0x7f7286c10470>"
      ]
     },
     "metadata": {},
     "output_type": "display_data"
    }
   ],
   "source": [
    "day_names = {0: 'Monday', 1:'Tuesday', 2:'Wednesday', 3:'Thursday',\n",
    "             4:'Friday', 5:'Saturday', 6:'Sunday'}\n",
    "sanDF['Day of week'] = sanDF.Date.apply(lambda x: x.weekday())\n",
    "seatDF['Day of week'] = seatDF['Occurred Date or Date Range Start'].apply(lambda x: x.weekday())\n",
    "\n",
    "# ignore NON-CRIMINAL\n",
    "sanDayCat = sanDF[sanDF['Incident Category'] != 'NON-CRIMINAL']\\\n",
    "            .groupby(['Day of week', 'Incident Category']).size().to_frame('Incident count').reset_index()\\\n",
    "            .sort_values(['Day of week', 'Incident Category'])\n",
    "sanDayCat['City'] = 'Sanfrancisco'\n",
    "\n",
    "seatDayCat = seatDF.groupby(['Day of week', 'Incident Category']).size().to_frame('Incident count').reset_index()\\\n",
    "                   .sort_values(['Day of week', 'Incident Category'])\n",
    "seatDayCat['City'] = 'Seattle'\n",
    "\n",
    "dayCatDF = pd.concat([sanDayCat, seatDayCat])\n",
    "dayCatDF['Day of week'] = dayCatDF['Day of week'].map(day_names)\n",
    "\n",
    "sns.factorplot(\n",
    "    data=dayCatDF,\n",
    "    x='Day of week', \n",
    "    y='Incident count', \n",
    "    hue='City', \n",
    "    col='Incident Category'\n",
    ").set_xticklabels(rotation=30)"
   ]
  },
  {
   "cell_type": "markdown",
   "metadata": {},
   "source": [
    "We can see that number of incidents are almost the same in each day of week for both Seattle and Sanfrancisco. In Seattle, there are more incidents of \"INCHOATE\" at the weekkend and more \"PROPERTY\" incidents on Friday. In Sanfrancisco, the number of \"PROPERTY\" incidents is high at the weekend."
   ]
  },
  {
   "cell_type": "markdown",
   "metadata": {},
   "source": [
    "## Conclusion "
   ]
  },
  {
   "cell_type": "markdown",
   "metadata": {},
   "source": [
    "There are some interesting trends in hourly/daily crimes in the data. Crimes are less in early morning and more in late afternoon and in the evening."
   ]
  }
 ],
 "metadata": {
  "kernelspec": {
   "display_name": "Python 3",
   "language": "python",
   "name": "python3"
  },
  "language_info": {
   "codemirror_mode": {
    "name": "ipython",
    "version": 3
   },
   "file_extension": ".py",
   "mimetype": "text/x-python",
   "name": "python",
   "nbconvert_exporter": "python",
   "pygments_lexer": "ipython3",
   "version": "3.6.4"
  }
 },
 "nbformat": 4,
 "nbformat_minor": 2
}
