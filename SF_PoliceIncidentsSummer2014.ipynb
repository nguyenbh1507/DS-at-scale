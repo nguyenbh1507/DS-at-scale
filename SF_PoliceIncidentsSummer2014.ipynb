{
 "cells": [
  {
   "cell_type": "markdown",
   "metadata": {},
   "source": [
    "# San Francisco: Police incident peak in the early evening, much earlier than expected"
   ]
  },
  {
   "cell_type": "markdown",
   "metadata": {},
   "source": [
    "## Introduction\n",
    "\n",
    "I would like to investigate the correlation between the time of day and the number of police incidents which were recorded  during the summer of 2014 in San Francisco. I suspect that there would be more incidents during the evening than the day when it is dark.\n",
    "\n",
    "## Grouping police incidents by time\n",
    "\n",
    "To see if this suspicion is true and if there are any other correlations we created this Jupyter notebook. Initially we load the San Francisco incidents dataset using pandas. We need to convert the date columns into a datetime column so that we can query it. We also split the time column into an hour and minute column to help quering."
   ]
  },
  {
   "cell_type": "code",
   "execution_count": 1,
   "metadata": {},
   "outputs": [],
   "source": [
    "import pandas as pd\n",
    "df = pd.read_csv('sanfrancisco_incidents_summer_2014.csv', sep=\",\")\n",
    "df['Date'] =  pd.to_datetime(df['Date'], format='%m/%d/%Y')\n",
    "df['Hour'] = pd.to_datetime(df['Time'], format='%H:%M').dt.hour\n",
    "df['Minute'] = pd.to_datetime(df['Time'], format='%H:%M').dt.minute"
   ]
  },
  {
   "cell_type": "markdown",
   "metadata": {},
   "source": [
    "We also would like the find the hour in the day with the most and least number of occurrences. To do this we group the incidents by the newly created Hour column and count the incidntnum. We then find the max and min number of occurence."
   ]
  },
  {
   "cell_type": "code",
   "execution_count": 4,
   "metadata": {},
   "outputs": [
    {
     "name": "stdout",
     "output_type": "stream",
     "text": [
      "San Francisco - min :4 max : 18\n"
     ]
    }
   ],
   "source": [
    "# Group by hour\n",
    "df_HOUR = df.groupby(pd.Grouper(key=\"Hour\")).count().reset_index()\n",
    "minHour = df_HOUR.loc[df_HOUR['IncidntNum'].idxmin()].Hour\n",
    "maxHour = df_HOUR.loc[df_HOUR['IncidntNum'].idxmax()].Hour\n",
    "\n",
    "print (\"San Francisco - min :\" + str(minHour%24) + \" max : \" + str(maxHour%24))"
   ]
  },
  {
   "cell_type": "markdown",
   "metadata": {},
   "source": [
    "Next we want to show how the number of incidents change throughout the day. However I think it would make more sense to look at the hours of the day from 6:00am to 5:59am which would show the daytime first and the nighttime second. \n",
    "\n",
    "To do this we will rotate the hours by 6 hours, i.e. if the time is before 6 we add 24 hours to it and then sort by the hours. We also rotate the max and min times."
   ]
  },
  {
   "cell_type": "code",
   "execution_count": 5,
   "metadata": {},
   "outputs": [],
   "source": [
    "def rotateTime(x):\n",
    "    return x + 24 if (x <= 5) else x;\n",
    "\n",
    "df_HOUR['Hour'] = df_HOUR['Hour'].transform(rotateTime)\n",
    "df_HOUR = df_HOUR.sort_values(by=['Hour'], ascending=True)\n",
    "\n",
    "minHour = rotateTime(minHour);\n",
    "maxHour = rotateTime(maxHour);"
   ]
  },
  {
   "cell_type": "markdown",
   "metadata": {},
   "source": [
    "To produce the plots we will use the Bokeh library. We then create a line plot of the number of incidents with time. We also add an extra vertical lines at the point for the hour of min and max occurences. We also format the time axis to display for example 10:00. "
   ]
  },
  {
   "cell_type": "code",
   "execution_count": 6,
   "metadata": {},
   "outputs": [
    {
     "ename": "ImportError",
     "evalue": "cannot import name 'cumsum'",
     "output_type": "error",
     "traceback": [
      "\u001b[0;31m---------------------------------------------------------------------------\u001b[0m",
      "\u001b[0;31mImportError\u001b[0m                               Traceback (most recent call last)",
      "\u001b[0;32m<ipython-input-6-400084557615>\u001b[0m in \u001b[0;36m<module>\u001b[0;34m()\u001b[0m\n\u001b[1;32m      2\u001b[0m \u001b[0;32mfrom\u001b[0m \u001b[0mbokeh\u001b[0m\u001b[0;34m.\u001b[0m\u001b[0mio\u001b[0m \u001b[0;32mimport\u001b[0m \u001b[0moutput_notebook\u001b[0m\u001b[0;34m,\u001b[0m \u001b[0mshow\u001b[0m\u001b[0;34m\u001b[0m\u001b[0m\n\u001b[1;32m      3\u001b[0m \u001b[0;32mfrom\u001b[0m \u001b[0mbokeh\u001b[0m\u001b[0;34m.\u001b[0m\u001b[0mmodels\u001b[0m \u001b[0;32mimport\u001b[0m \u001b[0mFuncTickFormatter\u001b[0m\u001b[0;34m,\u001b[0m \u001b[0mSpan\u001b[0m\u001b[0;34m,\u001b[0m \u001b[0mColumnDataSource\u001b[0m\u001b[0;34m,\u001b[0m \u001b[0mRange1d\u001b[0m\u001b[0;34m,\u001b[0m \u001b[0mLinearAxis\u001b[0m\u001b[0;34m\u001b[0m\u001b[0m\n\u001b[0;32m----> 4\u001b[0;31m \u001b[0;32mfrom\u001b[0m \u001b[0mbokeh\u001b[0m\u001b[0;34m.\u001b[0m\u001b[0mtransform\u001b[0m \u001b[0;32mimport\u001b[0m \u001b[0mcumsum\u001b[0m\u001b[0;34m\u001b[0m\u001b[0m\n\u001b[0m\u001b[1;32m      5\u001b[0m \u001b[0;32mfrom\u001b[0m \u001b[0mmath\u001b[0m \u001b[0;32mimport\u001b[0m \u001b[0mpi\u001b[0m\u001b[0;34m\u001b[0m\u001b[0m\n\u001b[1;32m      6\u001b[0m \u001b[0;34m\u001b[0m\u001b[0m\n",
      "\u001b[0;31mImportError\u001b[0m: cannot import name 'cumsum'"
     ]
    }
   ],
   "source": [
    "from bokeh.plotting import figure \n",
    "from bokeh.io import output_notebook, show\n",
    "from bokeh.models import FuncTickFormatter, Span, ColumnDataSource, Range1d, LinearAxis\n",
    "from bokeh.transform import cumsum\n",
    "from math import pi\n",
    "\n",
    "output_notebook()\n",
    "\n",
    "p = figure(title=\"Total number of police incidents at each hour throughout the summer of 2014\")\n",
    "\n",
    "p.line(x=df_HOUR[\"Hour\"],y=df_HOUR[\"IncidntNum\"], line_width=6, line_color=\"Green\")\n",
    "\n",
    "SF_MIN = Span(location=minHour, dimension='height', line_color='Green', line_width=2)\n",
    "SF_MAX = Span(location=maxHour, dimension='height', line_color='Green', line_width=2)\n",
    "p.renderers.extend([SF_MIN, SF_MAX])\n",
    "\n",
    "timeFormatter = FuncTickFormatter(code=\"\"\"\n",
    "    var s = \"0\" + ((tick%1)*60.0).toFixed(0);\n",
    "    return (tick % 24).toFixed(0) + \":\" + s.substr(s.length-2);\n",
    "\"\"\")\n",
    "\n",
    "p.yaxis.axis_label = \"Number of Incidents\"\n",
    "p.xaxis.axis_label = \"Time of Incident\"\n",
    "p.xaxis[0].formatter = timeFormatter\n",
    "\n",
    "show(p)"
   ]
  },
  {
   "cell_type": "markdown",
   "metadata": {},
   "source": [
    "From the graph above it can be seen that in San Francisco the peak time for police incidents is 18:00 while the lowest \n",
    "number of incidents occur at 4:00. This is as I suspected that more crimes occur in the evening than during the day (which can also be seen by the sinusodal shape of the graph. However, what is unexpected is that the peak occurs so early 18:00 , when it is still light during the summer months. "
   ]
  },
  {
   "cell_type": "markdown",
   "metadata": {},
   "source": [
    "## Grouping police incidents by description\n",
    "What I suspect is that different types of incidents may occur more frequently at different times of day. To begin we first get a list of all the different descriptions present in our dataset. We group our dataset by \"Descript\" and count the number of incidntNums in each description. We display this below to get a list.\n",
    "\n",
    "We can see that most incidents are \"Grand Theft From Locked Auto\". But we can also see that there are 368 different descriptions which are perhaps too granular to be able to compare different categories."
   ]
  },
  {
   "cell_type": "code",
   "execution_count": 5,
   "metadata": {},
   "outputs": [
    {
     "name": "stdout",
     "output_type": "stream",
     "text": [
      "                                                  IncidntNum\n",
      "Descript                                                    \n",
      "GRAND THEFT FROM LOCKED AUTO                            3766\n",
      "STOLEN AUTOMOBILE                                       1350\n",
      "LOST PROPERTY                                           1202\n",
      "PETTY THEFT OF PROPERTY                                 1125\n",
      "WARRANT ARREST                                           980\n",
      "PETTY THEFT FROM LOCKED AUTO                             955\n",
      "BATTERY                                                  903\n",
      "FOUND PROPERTY                                           757\n",
      "GRAND THEFT FROM UNLOCKED AUTO                           681\n",
      "SUSPICIOUS OCCURRENCE                                    677\n",
      "FOUND PERSON                                             637\n",
      "INVESTIGATIVE DETENTION                                  559\n",
      "GRAND THEFT OF PROPERTY                                  485\n",
      "THREATS AGAINST LIFE                                     473\n",
      "ENROUTE TO OUTSIDE JURISDICTION                          470\n",
      "PETTY THEFT FROM A BUILDING                              451\n",
      "RESISTING ARREST                                         382\n",
      "PETTY THEFT SHOPLIFTING                                  379\n",
      "MISSING ADULT                                            362\n",
      "STOLEN TRUCK                                             350\n",
      "TRAFFIC VIOLATION ARREST                                 337\n",
      "TRAFFIC VIOLATION                                        330\n",
      "GRAND THEFT FROM PERSON                                  321\n",
      "LOST/STOLEN LICENSE PLATE                                316\n",
      "INFLICT INJURY ON COHABITEE                              297\n",
      "AGGRAVATED ASSAULT WITH A DEADLY WEAPON                  294\n",
      "DOMESTIC VIOLENCE                                        286\n",
      "PROBATION VIOLATION                                      284\n",
      "GRAND THEFT FROM A BUILDING                              277\n",
      "TRESPASSING                                              269\n",
      "...                                                      ...\n",
      "TRESPASSING ON RAILROAD TRAINS                             1\n",
      "PETTY THEFT COIN OPERATED MACHINE                          1\n",
      "ATTEMPTED ROBBERY SERVICE STATION WITH A KNIFE             1\n",
      "MINOR ON ON-SALE LICENSED PREMISE                          1\n",
      "DISRUPTS SCHOOL ACTIVITIES                                 1\n",
      "ESCAPE OR ASSISTING ESCAPE                                 1\n",
      "LOITERS AROUND PUBLIC TOILET FOR LEWD ACT                  1\n",
      "IMPERSONATING FIRE DEPARTMENT MEMBER                       1\n",
      "ATTEMPTED SUICIDE BY FIREARMS                              1\n",
      "UNLAWFUL TRANSPORTATION OF ALCOHOL                         1\n",
      "ATTEMPTED ROBBERY RESIDENCE WITH A GUN                     1\n",
      "ARSON OF A VACANT BUILDING                                 1\n",
      "FAILURE TO PROVIDE FOR CHILD                               1\n",
      "PEEPING TOM                                                1\n",
      "HABITUAL TRUANT                                            1\n",
      "JUDGE/JUROR ACCEPTING A BRIBE                              1\n",
      "SOLICITS LEWD ACT                                          1\n",
      "ROBBERY OF A COMMERCIAL ESTABLISHMENT W/ A KNIFE           1\n",
      "IMPERSONATING PUBLIC UTILITY MEMBER                        1\n",
      "AGGRESSIVE SOLICITING                                      1\n",
      "VIOLATION OF FEDERAL STATUTE                               1\n",
      "SAFE BURGLARY OF A STORE                                   1\n",
      "ATTEMPTED AUTO STRIP                                       1\n",
      "BRIBERY OF EXECUTIVE OFFICER                               1\n",
      "ATTEMPTED ARSON                                            1\n",
      "POSSESSION OF OBSCENE MATTER FOR SALE                      1\n",
      "STOLEN BUS                                                 1\n",
      "ACCIDENTAL BURNS                                           1\n",
      "MAYHEM WITH A GUN                                          1\n",
      "PETTY THEFT MOTORCYCLE STRIP                               1\n",
      "\n",
      "[368 rows x 1 columns]\n"
     ]
    }
   ],
   "source": [
    "dfDescriptGROUP = df.groupby(pd.Grouper(key=\"Descript\"))[[\"IncidntNum\"]].count()\n",
    "dfDescriptGROUP = dfDescriptGROUP.sort_values(by=[\"IncidntNum\"], ascending=False)\n",
    "print dfDescriptGROUP"
   ]
  },
  {
   "cell_type": "markdown",
   "metadata": {},
   "source": [
    "To be be able to compare the different descriptions we will attempt to group the descirptions into common groups. I created a list of categories and I will consider a description to fall within a category if that category name occurs within the description title. This is a pretty naive way to split the categories but it doesn't require detail knowledge of all the different descriptions. We then split the data into each category and calculate the number of incidents for each category and also the hour of max and min number of incidents. We also get the incidents per hour for each category.\n",
    "\n",
    "However, there are many incident descriptions which don't fall within an any category. To account for this we will create another category \"OTHER\" which includes all descriptions which fall in no category."
   ]
  },
  {
   "cell_type": "code",
   "execution_count": 8,
   "metadata": {},
   "outputs": [],
   "source": [
    "# prepare data for our graphs - \n",
    "listOfCategories = [\"ROBBERY\",\"THEFT\", \"ASSAULT\", \"POSSESSION\", \"SALE\", \"HOMICIDE\", \"BATTERY\", \"LOST\", \"STOLEN\" ];\n",
    "\n",
    "data = {\n",
    "    \"categories\": listOfCategories,\n",
    "    \"min\":[],\n",
    "    \"max\":[],\n",
    "    \"totIncidents\":[],\n",
    "    \"incidentTypes\":[],\n",
    "    \"incidntNum\":[]\n",
    "}\n",
    "\n",
    "def extractDetails(df):\n",
    "    data['incidentTypes'].append(df['Descript'].unique())\n",
    "    data['totIncidents'].append(len(df))\n",
    "    df_Hour = df.groupby(pd.Grouper(key=\"Hour\")).count().reset_index()\n",
    "    df_Hour['Hour'] = df_Hour['Hour'].transform(rotateTime)\n",
    "    df_Hour_H = df_Hour.set_index(\"Hour\")\n",
    "    df_Hour_H = df_Hour_H.reindex(range(6, 6+24), fill_value=0)\n",
    "    data['incidntNum'].append(df_Hour_H['IncidntNum'])\n",
    "    data['max'].append(df_Hour.loc[df_Hour['IncidntNum'].idxmax()].Hour)\n",
    "    data['min'].append(df_Hour.loc[df_Hour['IncidntNum'].idxmax()].Hour)\n",
    "\n",
    "def isInNoCategory(x):\n",
    "    return True if not any(s in x['Descript'] for s in listOfCategories) else False\n",
    " \n",
    "#Extract only entries for each category then group by hour and get the hour with most incidents and least    \n",
    "for c in data[\"categories\"]:\n",
    "    df_Filtered = df[df.apply(lambda x: c in x['Descript'], axis=1, result_type='reduce')]\n",
    "    extractDetails(df_Filtered)\n",
    "\n",
    "# Get all entries which don't fit in any category   \n",
    "df_Filtered_Other = df[df.apply(isInNoCategory, axis=1, result_type='reduce')]\n",
    "data['categories'].append(\"OTHER\")\n",
    "extractDetails(df_Filtered_Other)"
   ]
  },
  {
   "cell_type": "markdown",
   "metadata": {},
   "source": [
    "Next we want to compare the number incidents (in total) for each category. To display this we calculate the proportion of incidents for each category. We then display a pie chart. There is a hover-over tooltip on each segment which displays the percentage proportion of each category."
   ]
  },
  {
   "cell_type": "code",
   "execution_count": 9,
   "metadata": {},
   "outputs": [
    {
     "ename": "AttributeError",
     "evalue": "unexpected attribute 'tooltips' to Figure, possible attributes are above, aspect_scale, background_fill_alpha, background_fill_color, below, border_fill_alpha, border_fill_color, css_classes, disabled, extra_x_ranges, extra_y_ranges, h_symmetry, height, hidpi, inner_height, inner_width, js_event_callbacks, js_property_callbacks, layout_height, layout_width, left, lod_factor, lod_interval, lod_threshold, lod_timeout, match_aspect, min_border, min_border_bottom, min_border_left, min_border_right, min_border_top, name, outline_line_alpha, outline_line_cap, outline_line_color, outline_line_dash, outline_line_dash_offset, outline_line_join, outline_line_width, output_backend, plot_height, plot_width, renderers, right, sizing_mode, subscribed_events, tags, title, title_location, toolbar, toolbar_location, toolbar_sticky, v_symmetry, width, x_range, x_scale, y_range or y_scale",
     "output_type": "error",
     "traceback": [
      "\u001b[0;31m---------------------------------------------------------------------------\u001b[0m",
      "\u001b[0;31mAttributeError\u001b[0m                            Traceback (most recent call last)",
      "\u001b[0;32m<ipython-input-9-48bb36be59e1>\u001b[0m in \u001b[0;36m<module>\u001b[0;34m()\u001b[0m\n\u001b[1;32m      7\u001b[0m \u001b[0;34m\u001b[0m\u001b[0m\n\u001b[1;32m      8\u001b[0m p = figure(plot_height=350, title=\"Proportion of incident categories\", toolbar_location=None,\n\u001b[0;32m----> 9\u001b[0;31m         tools=\"hover\", tooltips=\"@categories: @percent\")\n\u001b[0m\u001b[1;32m     10\u001b[0m \u001b[0;34m\u001b[0m\u001b[0m\n\u001b[1;32m     11\u001b[0m p.wedge(x=0, y=1, radius=0.4,\n",
      "\u001b[0;32m~/anaconda3/lib/python3.6/site-packages/bokeh/plotting/figure.py\u001b[0m in \u001b[0;36mfigure\u001b[0;34m(**kwargs)\u001b[0m\n\u001b[1;32m    791\u001b[0m     '''\n\u001b[1;32m    792\u001b[0m \u001b[0;34m\u001b[0m\u001b[0m\n\u001b[0;32m--> 793\u001b[0;31m     \u001b[0;32mreturn\u001b[0m \u001b[0mFigure\u001b[0m\u001b[0;34m(\u001b[0m\u001b[0;34m**\u001b[0m\u001b[0mkwargs\u001b[0m\u001b[0;34m)\u001b[0m\u001b[0;34m\u001b[0m\u001b[0m\n\u001b[0m\u001b[1;32m    794\u001b[0m \u001b[0;34m\u001b[0m\u001b[0m\n\u001b[1;32m    795\u001b[0m \u001b[0;34m\u001b[0m\u001b[0m\n",
      "\u001b[0;32m~/anaconda3/lib/python3.6/site-packages/bokeh/plotting/figure.py\u001b[0m in \u001b[0;36m__init__\u001b[0;34m(self, *arg, **kw)\u001b[0m\n\u001b[1;32m    136\u001b[0m             \u001b[0mkw\u001b[0m\u001b[0;34m[\u001b[0m\u001b[0;34m'title'\u001b[0m\u001b[0;34m]\u001b[0m \u001b[0;34m=\u001b[0m \u001b[0mTitle\u001b[0m\u001b[0;34m(\u001b[0m\u001b[0mtext\u001b[0m\u001b[0;34m=\u001b[0m\u001b[0mtitle\u001b[0m\u001b[0;34m)\u001b[0m\u001b[0;34m\u001b[0m\u001b[0m\n\u001b[1;32m    137\u001b[0m \u001b[0;34m\u001b[0m\u001b[0m\n\u001b[0;32m--> 138\u001b[0;31m         \u001b[0msuper\u001b[0m\u001b[0;34m(\u001b[0m\u001b[0mFigure\u001b[0m\u001b[0;34m,\u001b[0m \u001b[0mself\u001b[0m\u001b[0;34m)\u001b[0m\u001b[0;34m.\u001b[0m\u001b[0m__init__\u001b[0m\u001b[0;34m(\u001b[0m\u001b[0;34m*\u001b[0m\u001b[0marg\u001b[0m\u001b[0;34m,\u001b[0m \u001b[0;34m**\u001b[0m\u001b[0mkw\u001b[0m\u001b[0;34m)\u001b[0m\u001b[0;34m\u001b[0m\u001b[0m\n\u001b[0m\u001b[1;32m    139\u001b[0m \u001b[0;34m\u001b[0m\u001b[0m\n\u001b[1;32m    140\u001b[0m         \u001b[0mself\u001b[0m\u001b[0;34m.\u001b[0m\u001b[0mx_range\u001b[0m \u001b[0;34m=\u001b[0m \u001b[0m_get_range\u001b[0m\u001b[0;34m(\u001b[0m\u001b[0mopts\u001b[0m\u001b[0;34m.\u001b[0m\u001b[0mx_range\u001b[0m\u001b[0;34m)\u001b[0m\u001b[0;34m\u001b[0m\u001b[0m\n",
      "\u001b[0;32m~/anaconda3/lib/python3.6/site-packages/bokeh/models/plots.py\u001b[0m in \u001b[0;36m__init__\u001b[0;34m(self, **kwargs)\u001b[0m\n\u001b[1;32m     47\u001b[0m             \u001b[0mkwargs\u001b[0m\u001b[0;34m[\u001b[0m\u001b[0;34m\"toolbar\"\u001b[0m\u001b[0;34m]\u001b[0m \u001b[0;34m=\u001b[0m \u001b[0mToolbar\u001b[0m\u001b[0;34m(\u001b[0m\u001b[0mtools\u001b[0m\u001b[0;34m=\u001b[0m\u001b[0mtools\u001b[0m\u001b[0;34m,\u001b[0m \u001b[0mlogo\u001b[0m\u001b[0;34m=\u001b[0m\u001b[0mlogo\u001b[0m\u001b[0;34m)\u001b[0m\u001b[0;34m\u001b[0m\u001b[0m\n\u001b[1;32m     48\u001b[0m \u001b[0;34m\u001b[0m\u001b[0m\n\u001b[0;32m---> 49\u001b[0;31m         \u001b[0msuper\u001b[0m\u001b[0;34m(\u001b[0m\u001b[0mLayoutDOM\u001b[0m\u001b[0;34m,\u001b[0m \u001b[0mself\u001b[0m\u001b[0;34m)\u001b[0m\u001b[0;34m.\u001b[0m\u001b[0m__init__\u001b[0m\u001b[0;34m(\u001b[0m\u001b[0;34m**\u001b[0m\u001b[0mkwargs\u001b[0m\u001b[0;34m)\u001b[0m\u001b[0;34m\u001b[0m\u001b[0m\n\u001b[0m\u001b[1;32m     50\u001b[0m \u001b[0;34m\u001b[0m\u001b[0m\n\u001b[1;32m     51\u001b[0m     \u001b[0;32mdef\u001b[0m \u001b[0mselect\u001b[0m\u001b[0;34m(\u001b[0m\u001b[0mself\u001b[0m\u001b[0;34m,\u001b[0m \u001b[0;34m*\u001b[0m\u001b[0margs\u001b[0m\u001b[0;34m,\u001b[0m \u001b[0;34m**\u001b[0m\u001b[0mkwargs\u001b[0m\u001b[0;34m)\u001b[0m\u001b[0;34m:\u001b[0m\u001b[0;34m\u001b[0m\u001b[0m\n",
      "\u001b[0;32m~/anaconda3/lib/python3.6/site-packages/bokeh/model.py\u001b[0m in \u001b[0;36m__init__\u001b[0;34m(self, **kwargs)\u001b[0m\n\u001b[1;32m    217\u001b[0m         \u001b[0mself\u001b[0m\u001b[0;34m.\u001b[0m\u001b[0m_id\u001b[0m \u001b[0;34m=\u001b[0m \u001b[0mkwargs\u001b[0m\u001b[0;34m.\u001b[0m\u001b[0mpop\u001b[0m\u001b[0;34m(\u001b[0m\u001b[0;34m\"id\"\u001b[0m\u001b[0;34m,\u001b[0m \u001b[0mmake_id\u001b[0m\u001b[0;34m(\u001b[0m\u001b[0;34m)\u001b[0m\u001b[0;34m)\u001b[0m\u001b[0;34m\u001b[0m\u001b[0m\n\u001b[1;32m    218\u001b[0m         \u001b[0mself\u001b[0m\u001b[0;34m.\u001b[0m\u001b[0m_document\u001b[0m \u001b[0;34m=\u001b[0m \u001b[0;32mNone\u001b[0m\u001b[0;34m\u001b[0m\u001b[0m\n\u001b[0;32m--> 219\u001b[0;31m         \u001b[0msuper\u001b[0m\u001b[0;34m(\u001b[0m\u001b[0mModel\u001b[0m\u001b[0;34m,\u001b[0m \u001b[0mself\u001b[0m\u001b[0;34m)\u001b[0m\u001b[0;34m.\u001b[0m\u001b[0m__init__\u001b[0m\u001b[0;34m(\u001b[0m\u001b[0;34m**\u001b[0m\u001b[0mkwargs\u001b[0m\u001b[0;34m)\u001b[0m\u001b[0;34m\u001b[0m\u001b[0m\n\u001b[0m\u001b[1;32m    220\u001b[0m         \u001b[0mdefault_theme\u001b[0m\u001b[0;34m.\u001b[0m\u001b[0mapply_to_model\u001b[0m\u001b[0;34m(\u001b[0m\u001b[0mself\u001b[0m\u001b[0;34m)\u001b[0m\u001b[0;34m\u001b[0m\u001b[0m\n\u001b[1;32m    221\u001b[0m \u001b[0;34m\u001b[0m\u001b[0m\n",
      "\u001b[0;32m~/anaconda3/lib/python3.6/site-packages/bokeh/core/has_props.py\u001b[0m in \u001b[0;36m__init__\u001b[0;34m(self, **properties)\u001b[0m\n\u001b[1;32m    234\u001b[0m \u001b[0;34m\u001b[0m\u001b[0m\n\u001b[1;32m    235\u001b[0m         \u001b[0;32mfor\u001b[0m \u001b[0mname\u001b[0m\u001b[0;34m,\u001b[0m \u001b[0mvalue\u001b[0m \u001b[0;32min\u001b[0m \u001b[0mproperties\u001b[0m\u001b[0;34m.\u001b[0m\u001b[0mitems\u001b[0m\u001b[0;34m(\u001b[0m\u001b[0;34m)\u001b[0m\u001b[0;34m:\u001b[0m\u001b[0;34m\u001b[0m\u001b[0m\n\u001b[0;32m--> 236\u001b[0;31m             \u001b[0msetattr\u001b[0m\u001b[0;34m(\u001b[0m\u001b[0mself\u001b[0m\u001b[0;34m,\u001b[0m \u001b[0mname\u001b[0m\u001b[0;34m,\u001b[0m \u001b[0mvalue\u001b[0m\u001b[0;34m)\u001b[0m\u001b[0;34m\u001b[0m\u001b[0m\n\u001b[0m\u001b[1;32m    237\u001b[0m \u001b[0;34m\u001b[0m\u001b[0m\n\u001b[1;32m    238\u001b[0m     \u001b[0;32mdef\u001b[0m \u001b[0m__setattr__\u001b[0m\u001b[0;34m(\u001b[0m\u001b[0mself\u001b[0m\u001b[0;34m,\u001b[0m \u001b[0mname\u001b[0m\u001b[0;34m,\u001b[0m \u001b[0mvalue\u001b[0m\u001b[0;34m)\u001b[0m\u001b[0;34m:\u001b[0m\u001b[0;34m\u001b[0m\u001b[0m\n",
      "\u001b[0;32m~/anaconda3/lib/python3.6/site-packages/bokeh/core/has_props.py\u001b[0m in \u001b[0;36m__setattr__\u001b[0;34m(self, name, value)\u001b[0m\n\u001b[1;32m    269\u001b[0m \u001b[0;34m\u001b[0m\u001b[0m\n\u001b[1;32m    270\u001b[0m             raise AttributeError(\"unexpected attribute '%s' to %s, %s attributes are %s\" %\n\u001b[0;32m--> 271\u001b[0;31m                 (name, self.__class__.__name__, text, nice_join(matches)))\n\u001b[0m\u001b[1;32m    272\u001b[0m \u001b[0;34m\u001b[0m\u001b[0m\n\u001b[1;32m    273\u001b[0m     \u001b[0;32mdef\u001b[0m \u001b[0m__str__\u001b[0m\u001b[0;34m(\u001b[0m\u001b[0mself\u001b[0m\u001b[0;34m)\u001b[0m\u001b[0;34m:\u001b[0m\u001b[0;34m\u001b[0m\u001b[0m\n",
      "\u001b[0;31mAttributeError\u001b[0m: unexpected attribute 'tooltips' to Figure, possible attributes are above, aspect_scale, background_fill_alpha, background_fill_color, below, border_fill_alpha, border_fill_color, css_classes, disabled, extra_x_ranges, extra_y_ranges, h_symmetry, height, hidpi, inner_height, inner_width, js_event_callbacks, js_property_callbacks, layout_height, layout_width, left, lod_factor, lod_interval, lod_threshold, lod_timeout, match_aspect, min_border, min_border_bottom, min_border_left, min_border_right, min_border_top, name, outline_line_alpha, outline_line_cap, outline_line_color, outline_line_dash, outline_line_dash_offset, outline_line_join, outline_line_width, output_backend, plot_height, plot_width, renderers, right, sizing_mode, subscribed_events, tags, title, title_location, toolbar, toolbar_location, toolbar_sticky, v_symmetry, width, x_range, x_scale, y_range or y_scale"
     ]
    }
   ],
   "source": [
    "from bokeh.palettes import brewer\n",
    "\n",
    "allIncidents = float(sum(data['totIncidents']))\n",
    "data['percent'] = map(lambda x: '{0:.2f}'.format(x/allIncidents*100.0) + \"%\", data['totIncidents'])\n",
    "data['angle'] = map(lambda x: x/allIncidents*2*pi, data['totIncidents'])\n",
    "data['color'] = brewer['Spectral'][len(data['categories'])]\n",
    "\n",
    "p = figure(plot_height=350, title=\"Proportion of incident categories\", toolbar_location=None,\n",
    "        tools=\"hover\", tooltips=\"@categories: @percent\")\n",
    "\n",
    "p.wedge(x=0, y=1, radius=0.4,\n",
    "        start_angle=cumsum('angle', include_zero=True), end_angle=cumsum('angle'),\n",
    "        line_color=\"white\", fill_color='color', legend='categories', source=data)\n",
    "p.axis.visible = None\n",
    "p.xgrid.visible = False\n",
    "p.ygrid.visible = False\n",
    "show(p)"
   ]
  },
  {
   "cell_type": "markdown",
   "metadata": {},
   "source": [
    "We can see that the majority of incidents actually do not fit in any of the categories that we have listed - so the the \"OTHER\" category accounts for 41.95%. The next most popular incident category is theft 32.20%. More serious types of incidents such as \"ROBBERY\", \"HOMICIDE\", \"ASSAULT\" account for quite little of the total incidents. \"POSSESSION\" and \"SALE\" refer to drug related incidents and they and \"LOST\" and \"STOLEN\" (which relate to property incidents) "
   ]
  },
  {
   "cell_type": "markdown",
   "metadata": {},
   "source": [
    "We can compare the time when the most occurences of a category of incidents occur for the different categories. We then display a horizontal bar chart for each category. We also display the average (i.e. for all categories) in a different colour (green) to act as a baseline. There is a hover-over tooltip which displays the hour when most incidents occur for a category."
   ]
  },
  {
   "cell_type": "code",
   "execution_count": 10,
   "metadata": {},
   "outputs": [
    {
     "ename": "AttributeError",
     "evalue": "unexpected attribute 'tooltips' to Figure, possible attributes are above, aspect_scale, background_fill_alpha, background_fill_color, below, border_fill_alpha, border_fill_color, css_classes, disabled, extra_x_ranges, extra_y_ranges, h_symmetry, height, hidpi, inner_height, inner_width, js_event_callbacks, js_property_callbacks, layout_height, layout_width, left, lod_factor, lod_interval, lod_threshold, lod_timeout, match_aspect, min_border, min_border_bottom, min_border_left, min_border_right, min_border_top, name, outline_line_alpha, outline_line_cap, outline_line_color, outline_line_dash, outline_line_dash_offset, outline_line_join, outline_line_width, output_backend, plot_height, plot_width, renderers, right, sizing_mode, subscribed_events, tags, title, title_location, toolbar, toolbar_location, toolbar_sticky, v_symmetry, width, x_range, x_scale, y_range or y_scale",
     "output_type": "error",
     "traceback": [
      "\u001b[0;31m---------------------------------------------------------------------------\u001b[0m",
      "\u001b[0;31mAttributeError\u001b[0m                            Traceback (most recent call last)",
      "\u001b[0;32m<ipython-input-10-4313f1fc3912>\u001b[0m in \u001b[0;36m<module>\u001b[0;34m()\u001b[0m\n\u001b[1;32m     21\u001b[0m \u001b[0;34m\u001b[0m\u001b[0m\n\u001b[1;32m     22\u001b[0m p = figure(title=\"Total number of police incidents at each hour throughout the summer of 2014\", \n\u001b[0;32m---> 23\u001b[0;31m             y_range=df_Categories[\"categories\"], tools=\"hover\", tooltips=\"@categories: @max_Time\")\n\u001b[0m\u001b[1;32m     24\u001b[0m \u001b[0mp\u001b[0m\u001b[0;34m.\u001b[0m\u001b[0mhbar\u001b[0m\u001b[0;34m(\u001b[0m\u001b[0mheight\u001b[0m\u001b[0;34m=\u001b[0m\u001b[0;36m0.8\u001b[0m\u001b[0;34m,\u001b[0m \u001b[0my\u001b[0m\u001b[0;34m=\u001b[0m\u001b[0;34m'categories'\u001b[0m\u001b[0;34m,\u001b[0m \u001b[0mright\u001b[0m\u001b[0;34m=\u001b[0m\u001b[0;34m\"max\"\u001b[0m\u001b[0;34m,\u001b[0m \u001b[0mleft\u001b[0m\u001b[0;34m=\u001b[0m\u001b[0;36m6\u001b[0m\u001b[0;34m,\u001b[0m \u001b[0msource\u001b[0m\u001b[0;34m=\u001b[0m\u001b[0mdf_Categories\u001b[0m\u001b[0;34m,\u001b[0m \u001b[0mfill_color\u001b[0m\u001b[0;34m=\u001b[0m\u001b[0;34m\"colour\"\u001b[0m\u001b[0;34m)\u001b[0m\u001b[0;34m\u001b[0m\u001b[0m\n\u001b[1;32m     25\u001b[0m \u001b[0mp\u001b[0m\u001b[0;34m.\u001b[0m\u001b[0mxaxis\u001b[0m\u001b[0;34m.\u001b[0m\u001b[0mformatter\u001b[0m \u001b[0;34m=\u001b[0m \u001b[0mtimeFormatter\u001b[0m\u001b[0;34m\u001b[0m\u001b[0m\n",
      "\u001b[0;32m~/anaconda3/lib/python3.6/site-packages/bokeh/plotting/figure.py\u001b[0m in \u001b[0;36mfigure\u001b[0;34m(**kwargs)\u001b[0m\n\u001b[1;32m    791\u001b[0m     '''\n\u001b[1;32m    792\u001b[0m \u001b[0;34m\u001b[0m\u001b[0m\n\u001b[0;32m--> 793\u001b[0;31m     \u001b[0;32mreturn\u001b[0m \u001b[0mFigure\u001b[0m\u001b[0;34m(\u001b[0m\u001b[0;34m**\u001b[0m\u001b[0mkwargs\u001b[0m\u001b[0;34m)\u001b[0m\u001b[0;34m\u001b[0m\u001b[0m\n\u001b[0m\u001b[1;32m    794\u001b[0m \u001b[0;34m\u001b[0m\u001b[0m\n\u001b[1;32m    795\u001b[0m \u001b[0;34m\u001b[0m\u001b[0m\n",
      "\u001b[0;32m~/anaconda3/lib/python3.6/site-packages/bokeh/plotting/figure.py\u001b[0m in \u001b[0;36m__init__\u001b[0;34m(self, *arg, **kw)\u001b[0m\n\u001b[1;32m    136\u001b[0m             \u001b[0mkw\u001b[0m\u001b[0;34m[\u001b[0m\u001b[0;34m'title'\u001b[0m\u001b[0;34m]\u001b[0m \u001b[0;34m=\u001b[0m \u001b[0mTitle\u001b[0m\u001b[0;34m(\u001b[0m\u001b[0mtext\u001b[0m\u001b[0;34m=\u001b[0m\u001b[0mtitle\u001b[0m\u001b[0;34m)\u001b[0m\u001b[0;34m\u001b[0m\u001b[0m\n\u001b[1;32m    137\u001b[0m \u001b[0;34m\u001b[0m\u001b[0m\n\u001b[0;32m--> 138\u001b[0;31m         \u001b[0msuper\u001b[0m\u001b[0;34m(\u001b[0m\u001b[0mFigure\u001b[0m\u001b[0;34m,\u001b[0m \u001b[0mself\u001b[0m\u001b[0;34m)\u001b[0m\u001b[0;34m.\u001b[0m\u001b[0m__init__\u001b[0m\u001b[0;34m(\u001b[0m\u001b[0;34m*\u001b[0m\u001b[0marg\u001b[0m\u001b[0;34m,\u001b[0m \u001b[0;34m**\u001b[0m\u001b[0mkw\u001b[0m\u001b[0;34m)\u001b[0m\u001b[0;34m\u001b[0m\u001b[0m\n\u001b[0m\u001b[1;32m    139\u001b[0m \u001b[0;34m\u001b[0m\u001b[0m\n\u001b[1;32m    140\u001b[0m         \u001b[0mself\u001b[0m\u001b[0;34m.\u001b[0m\u001b[0mx_range\u001b[0m \u001b[0;34m=\u001b[0m \u001b[0m_get_range\u001b[0m\u001b[0;34m(\u001b[0m\u001b[0mopts\u001b[0m\u001b[0;34m.\u001b[0m\u001b[0mx_range\u001b[0m\u001b[0;34m)\u001b[0m\u001b[0;34m\u001b[0m\u001b[0m\n",
      "\u001b[0;32m~/anaconda3/lib/python3.6/site-packages/bokeh/models/plots.py\u001b[0m in \u001b[0;36m__init__\u001b[0;34m(self, **kwargs)\u001b[0m\n\u001b[1;32m     47\u001b[0m             \u001b[0mkwargs\u001b[0m\u001b[0;34m[\u001b[0m\u001b[0;34m\"toolbar\"\u001b[0m\u001b[0;34m]\u001b[0m \u001b[0;34m=\u001b[0m \u001b[0mToolbar\u001b[0m\u001b[0;34m(\u001b[0m\u001b[0mtools\u001b[0m\u001b[0;34m=\u001b[0m\u001b[0mtools\u001b[0m\u001b[0;34m,\u001b[0m \u001b[0mlogo\u001b[0m\u001b[0;34m=\u001b[0m\u001b[0mlogo\u001b[0m\u001b[0;34m)\u001b[0m\u001b[0;34m\u001b[0m\u001b[0m\n\u001b[1;32m     48\u001b[0m \u001b[0;34m\u001b[0m\u001b[0m\n\u001b[0;32m---> 49\u001b[0;31m         \u001b[0msuper\u001b[0m\u001b[0;34m(\u001b[0m\u001b[0mLayoutDOM\u001b[0m\u001b[0;34m,\u001b[0m \u001b[0mself\u001b[0m\u001b[0;34m)\u001b[0m\u001b[0;34m.\u001b[0m\u001b[0m__init__\u001b[0m\u001b[0;34m(\u001b[0m\u001b[0;34m**\u001b[0m\u001b[0mkwargs\u001b[0m\u001b[0;34m)\u001b[0m\u001b[0;34m\u001b[0m\u001b[0m\n\u001b[0m\u001b[1;32m     50\u001b[0m \u001b[0;34m\u001b[0m\u001b[0m\n\u001b[1;32m     51\u001b[0m     \u001b[0;32mdef\u001b[0m \u001b[0mselect\u001b[0m\u001b[0;34m(\u001b[0m\u001b[0mself\u001b[0m\u001b[0;34m,\u001b[0m \u001b[0;34m*\u001b[0m\u001b[0margs\u001b[0m\u001b[0;34m,\u001b[0m \u001b[0;34m**\u001b[0m\u001b[0mkwargs\u001b[0m\u001b[0;34m)\u001b[0m\u001b[0;34m:\u001b[0m\u001b[0;34m\u001b[0m\u001b[0m\n",
      "\u001b[0;32m~/anaconda3/lib/python3.6/site-packages/bokeh/model.py\u001b[0m in \u001b[0;36m__init__\u001b[0;34m(self, **kwargs)\u001b[0m\n\u001b[1;32m    217\u001b[0m         \u001b[0mself\u001b[0m\u001b[0;34m.\u001b[0m\u001b[0m_id\u001b[0m \u001b[0;34m=\u001b[0m \u001b[0mkwargs\u001b[0m\u001b[0;34m.\u001b[0m\u001b[0mpop\u001b[0m\u001b[0;34m(\u001b[0m\u001b[0;34m\"id\"\u001b[0m\u001b[0;34m,\u001b[0m \u001b[0mmake_id\u001b[0m\u001b[0;34m(\u001b[0m\u001b[0;34m)\u001b[0m\u001b[0;34m)\u001b[0m\u001b[0;34m\u001b[0m\u001b[0m\n\u001b[1;32m    218\u001b[0m         \u001b[0mself\u001b[0m\u001b[0;34m.\u001b[0m\u001b[0m_document\u001b[0m \u001b[0;34m=\u001b[0m \u001b[0;32mNone\u001b[0m\u001b[0;34m\u001b[0m\u001b[0m\n\u001b[0;32m--> 219\u001b[0;31m         \u001b[0msuper\u001b[0m\u001b[0;34m(\u001b[0m\u001b[0mModel\u001b[0m\u001b[0;34m,\u001b[0m \u001b[0mself\u001b[0m\u001b[0;34m)\u001b[0m\u001b[0;34m.\u001b[0m\u001b[0m__init__\u001b[0m\u001b[0;34m(\u001b[0m\u001b[0;34m**\u001b[0m\u001b[0mkwargs\u001b[0m\u001b[0;34m)\u001b[0m\u001b[0;34m\u001b[0m\u001b[0m\n\u001b[0m\u001b[1;32m    220\u001b[0m         \u001b[0mdefault_theme\u001b[0m\u001b[0;34m.\u001b[0m\u001b[0mapply_to_model\u001b[0m\u001b[0;34m(\u001b[0m\u001b[0mself\u001b[0m\u001b[0;34m)\u001b[0m\u001b[0;34m\u001b[0m\u001b[0m\n\u001b[1;32m    221\u001b[0m \u001b[0;34m\u001b[0m\u001b[0m\n",
      "\u001b[0;32m~/anaconda3/lib/python3.6/site-packages/bokeh/core/has_props.py\u001b[0m in \u001b[0;36m__init__\u001b[0;34m(self, **properties)\u001b[0m\n\u001b[1;32m    234\u001b[0m \u001b[0;34m\u001b[0m\u001b[0m\n\u001b[1;32m    235\u001b[0m         \u001b[0;32mfor\u001b[0m \u001b[0mname\u001b[0m\u001b[0;34m,\u001b[0m \u001b[0mvalue\u001b[0m \u001b[0;32min\u001b[0m \u001b[0mproperties\u001b[0m\u001b[0;34m.\u001b[0m\u001b[0mitems\u001b[0m\u001b[0;34m(\u001b[0m\u001b[0;34m)\u001b[0m\u001b[0;34m:\u001b[0m\u001b[0;34m\u001b[0m\u001b[0m\n\u001b[0;32m--> 236\u001b[0;31m             \u001b[0msetattr\u001b[0m\u001b[0;34m(\u001b[0m\u001b[0mself\u001b[0m\u001b[0;34m,\u001b[0m \u001b[0mname\u001b[0m\u001b[0;34m,\u001b[0m \u001b[0mvalue\u001b[0m\u001b[0;34m)\u001b[0m\u001b[0;34m\u001b[0m\u001b[0m\n\u001b[0m\u001b[1;32m    237\u001b[0m \u001b[0;34m\u001b[0m\u001b[0m\n\u001b[1;32m    238\u001b[0m     \u001b[0;32mdef\u001b[0m \u001b[0m__setattr__\u001b[0m\u001b[0;34m(\u001b[0m\u001b[0mself\u001b[0m\u001b[0;34m,\u001b[0m \u001b[0mname\u001b[0m\u001b[0;34m,\u001b[0m \u001b[0mvalue\u001b[0m\u001b[0;34m)\u001b[0m\u001b[0;34m:\u001b[0m\u001b[0;34m\u001b[0m\u001b[0m\n",
      "\u001b[0;32m~/anaconda3/lib/python3.6/site-packages/bokeh/core/has_props.py\u001b[0m in \u001b[0;36m__setattr__\u001b[0;34m(self, name, value)\u001b[0m\n\u001b[1;32m    269\u001b[0m \u001b[0;34m\u001b[0m\u001b[0m\n\u001b[1;32m    270\u001b[0m             raise AttributeError(\"unexpected attribute '%s' to %s, %s attributes are %s\" %\n\u001b[0;32m--> 271\u001b[0;31m                 (name, self.__class__.__name__, text, nice_join(matches)))\n\u001b[0m\u001b[1;32m    272\u001b[0m \u001b[0;34m\u001b[0m\u001b[0m\n\u001b[1;32m    273\u001b[0m     \u001b[0;32mdef\u001b[0m \u001b[0m__str__\u001b[0m\u001b[0;34m(\u001b[0m\u001b[0mself\u001b[0m\u001b[0;34m)\u001b[0m\u001b[0;34m:\u001b[0m\u001b[0;34m\u001b[0m\u001b[0m\n",
      "\u001b[0;31mAttributeError\u001b[0m: unexpected attribute 'tooltips' to Figure, possible attributes are above, aspect_scale, background_fill_alpha, background_fill_color, below, border_fill_alpha, border_fill_color, css_classes, disabled, extra_x_ranges, extra_y_ranges, h_symmetry, height, hidpi, inner_height, inner_width, js_event_callbacks, js_property_callbacks, layout_height, layout_width, left, lod_factor, lod_interval, lod_threshold, lod_timeout, match_aspect, min_border, min_border_bottom, min_border_left, min_border_right, min_border_top, name, outline_line_alpha, outline_line_cap, outline_line_color, outline_line_dash, outline_line_dash_offset, outline_line_join, outline_line_width, output_backend, plot_height, plot_width, renderers, right, sizing_mode, subscribed_events, tags, title, title_location, toolbar, toolbar_location, toolbar_sticky, v_symmetry, width, x_range, x_scale, y_range or y_scale"
     ]
    }
   ],
   "source": [
    "from bokeh.layouts import row\n",
    "from bokeh.models import FuncTickFormatter\n",
    "\n",
    "data_MAX = {\n",
    "     'categories' : list(data['categories']),\n",
    "     'max': list(data['max']), \n",
    "     'colour' : ['blue']*len(data['max'])\n",
    "    }\n",
    "\n",
    "# Add the average\n",
    "data_MAX[\"categories\"].append('AVERAGE')\n",
    "data_MAX[\"max\"].append(maxHour)\n",
    "data_MAX[\"colour\"].append(\"green\")\n",
    "\n",
    "df_Categories = pd.DataFrame(data_MAX, columns=data_MAX.keys())\n",
    "# rotate the time\n",
    "df_Categories['max'] = df_Categories['max'].transform(rotateTime)\n",
    "df_Categories['max_Time'] = map(lambda x: str(x%24).zfill(2)+\":00\", df_Categories['max'])\n",
    "\n",
    "df_Categories = df_Categories.sort_values(by=['max'], ascending=True)\n",
    "\n",
    "p = figure(title=\"Total number of police incidents at each hour throughout the summer of 2014\", \n",
    "            y_range=df_Categories[\"categories\"], tools=\"hover\", tooltips=\"@categories: @max_Time\")\n",
    "p.hbar(height=0.8, y='categories', right=\"max\", left=6, source=df_Categories, fill_color=\"colour\")\n",
    "p.xaxis.formatter = timeFormatter\n",
    "p.xaxis.axis_label = \"Peak time for incident categories\"\n",
    "show(p)\n"
   ]
  },
  {
   "cell_type": "markdown",
   "metadata": {},
   "source": [
    "From the above graph we can see that although violent incident types which we more typically think of, such as \"ASSAULT\", \"ROBBERY\", \"HOMICIDE\" do occur late at night (22:00, 23:00 and 2:00am) but these incidents account for very little of the total. The majority of incidents which fall into the \"OTHER\" category have peaks early at 12:00. \"THEFT\" which accounts for a high proportion of incidents have a peak at 18:00."
   ]
  },
  {
   "cell_type": "markdown",
   "metadata": {},
   "source": [
    "Lastly we want to investigate the relative occurence of different categories throughout the day. To do so we will create a stacked area chart of the relative proportion of incident categories for each hour. \n",
    "\n",
    "The bokeh library does not support stacked graphs directly but they can be acheived using the \"patches' but does require some work. "
   ]
  },
  {
   "cell_type": "code",
   "execution_count": 9,
   "metadata": {
    "scrolled": false
   },
   "outputs": [
    {
     "data": {
      "text/html": [
       "\n",
       "\n",
       "\n",
       "\n",
       "\n",
       "\n",
       "  <div class=\"bk-root\" id=\"4e1b2aff-e4b2-4798-8e35-5c995db7f81d\"></div>\n"
      ]
     },
     "metadata": {},
     "output_type": "display_data"
    },
    {
     "data": {
      "application/javascript": [
       "(function(root) {\n",
       "  function embed_document(root) {\n",
       "    \n",
       "  var docs_json = {\"4ee28b69-4a17-48f4-84ee-f59cdd05523c\":{\"roots\":{\"references\":[{\"attributes\":{},\"id\":\"9fb809ff-d0e7-4f05-9bd6-50a00f417240\",\"type\":\"SaveTool\"},{\"attributes\":{},\"id\":\"a66ac9d6-2b39-45ce-aa77-2e345dd2c6c7\",\"type\":\"PanTool\"},{\"attributes\":{\"callback\":null,\"data\":{\"col\":[\"#5e4fa2\",\"#3288bd\",\"#66c2a5\",\"#abdda4\",\"#e6f598\",\"#fee08b\",\"#fdae61\",\"#f46d43\",\"#d53e4f\",\"#9e0142\"],\"names\":[\"ROBBERY\",\"THEFT\",\"ASSAULT\",\"POSSESSION\",\"SALE\",\"HOMICIDE\",\"BATTERY\",\"LOST\",\"STOLEN\",\"OTHER\"],\"xs\":[[29,28,27,26,25,24,23,22,21,20,19,18,17,16,15,14,13,12,11,10,9,8,7,6,6,7,8,9,10,11,12,13,14,15,16,17,18,19,20,21,22,23,24,25,26,27,28,29],[29,28,27,26,25,24,23,22,21,20,19,18,17,16,15,14,13,12,11,10,9,8,7,6,6,7,8,9,10,11,12,13,14,15,16,17,18,19,20,21,22,23,24,25,26,27,28,29],[29,28,27,26,25,24,23,22,21,20,19,18,17,16,15,14,13,12,11,10,9,8,7,6,6,7,8,9,10,11,12,13,14,15,16,17,18,19,20,21,22,23,24,25,26,27,28,29],[29,28,27,26,25,24,23,22,21,20,19,18,17,16,15,14,13,12,11,10,9,8,7,6,6,7,8,9,10,11,12,13,14,15,16,17,18,19,20,21,22,23,24,25,26,27,28,29],[29,28,27,26,25,24,23,22,21,20,19,18,17,16,15,14,13,12,11,10,9,8,7,6,6,7,8,9,10,11,12,13,14,15,16,17,18,19,20,21,22,23,24,25,26,27,28,29],[29,28,27,26,25,24,23,22,21,20,19,18,17,16,15,14,13,12,11,10,9,8,7,6,6,7,8,9,10,11,12,13,14,15,16,17,18,19,20,21,22,23,24,25,26,27,28,29],[29,28,27,26,25,24,23,22,21,20,19,18,17,16,15,14,13,12,11,10,9,8,7,6,6,7,8,9,10,11,12,13,14,15,16,17,18,19,20,21,22,23,24,25,26,27,28,29],[29,28,27,26,25,24,23,22,21,20,19,18,17,16,15,14,13,12,11,10,9,8,7,6,6,7,8,9,10,11,12,13,14,15,16,17,18,19,20,21,22,23,24,25,26,27,28,29],[29,28,27,26,25,24,23,22,21,20,19,18,17,16,15,14,13,12,11,10,9,8,7,6,6,7,8,9,10,11,12,13,14,15,16,17,18,19,20,21,22,23,24,25,26,27,28,29],[29,28,27,26,25,24,23,22,21,20,19,18,17,16,15,14,13,12,11,10,9,8,7,6,6,7,8,9,10,11,12,13,14,15,16,17,18,19,20,21,22,23,24,25,26,27,28,29]],\"ys\":[{\"__ndarray__\":\"AAAAAAAAAAAAAAAAAAAAAAAAAAAAAAAAAAAAAAAAAAAAAAAAAAAAAAAAAAAAAAAAAAAAAAAAAAAAAAAAAAAAAAAAAAAAAAAAAAAAAAAAAAAAAAAAAAAAAAAAAAAAAAAAAAAAAAAAAAAAAAAAAAAAAAAAAAAAAAAAAAAAAAAAAAAAAAAAAAAAAAAAAAAAAAAAAAAAAAAAAAAAAAAAAAAAAAAAAAAAAAAAAAAAAAAAAAAAAAAAAAAAAAAAAAAAAAAAgEgBIgWIlD+EEEIIIYSAP2aOPd+bIoU/uVWwQfLQfT+Oz2M9abRwPx9yWTFQwns/T/6dyyGohz8paBqMNSOAP2Cyro8cCXw/DxkSjRBTcT+xqTTk3Gd3P15RRMpjtH4/R72m9mZkgD85vSCzOieAP+UkHqUZ/4E/pTgTb9PFhT8v7H22JUqIP3m9CftK6JA/QO7m/qlZij+X1QrHp4aXPxWPdTjFY50/PJ8eN2N/mD+rbDhi2hOZPxxMkc+6wZQ/\",\"dtype\":\"float64\",\"shape\":[48]},{\"__ndarray__\":\"HEyRz7rBlD+rbDhi2hOZPzyfHjdjf5g/FY91OMVjnT+X1QrHp4aXP0Du5v6pWYo/eb0J+0rokD8v7H22JUqIP6U4E2/TxYU/5SQepRn/gT85vSCzOieAP0e9pvZmZIA/XlFEymO0fj+xqTTk3Gd3Pw8ZEo0QU3E/YLKujxwJfD8paBqMNSOAP0/+ncshqIc/H3JZMVDCez+Oz2M9abRwP7lVsEHy0H0/Zo4935sihT+EEEIIIYSAP4BIASIFiJQ/NQPVDFQz0D9qQJsGtGnQP/XnAs04YdA/PGNCyeDR0T/8Z/uumVDTP6895LJioNQ/7nDrrILw0j/Xooof2bjUP35HyAXDa9U/xfGDbaQv1D8ntyrKJ2jUP8lYKqXlbdU/DkG8HvDD2j9ytuFNXIDaP+Ub0pVLGNo/GHAN0ZP72T8fHKiysVTXP8ICgWJoSNY/XdWeRP8b0T9VEdhy11jTPwQRfvdAhM8/EIOFI3MCzj8Ku/ktBIzSPyryWTeYIs8/\",\"dtype\":\"float64\",\"shape\":[48]},{\"__ndarray__\":\"KvJZN5gizz8Ku/ktBIzSPxCDhSNzAs4/BBF+90CEzz9VEdhy11jTP13VnkT/G9E/wgKBYmhI1j8fHKiysVTXPxhwDdGT+9k/5RvSlUsY2j9ytuFNXIDaPw5BvB7ww9o/yVgqpeVt1T8ntyrKJ2jUP8Xxg22kL9Q/fkfIBcNr1T/Xooof2bjUP+5w66yC8NI/rz3ksmKg1D/8Z/uumVDTPzxjQsng0dE/9ecCzThh0D9qQJsGtGnQPzUD1QxUM9A/qzut7rS60z/cobodqtvRP5GRkZGRkdE/6uVPW2jA0j/1pNFC4FvUPzq/9pDLitU/3LC8atns0z8w4THs1pfVP8b+SoT5sNY/6qgkRQf31T/AGfgQ0hbWP5mMpVJa3tY/bo9gkidF3D9OiTgIqVTbP/ielGM4mNs/Py228dNi2z+SlaxkJSvZP1XjW8woQtg/uQ0zn7Y20z+kEeWUbfrVP1mHUzzW4dQ/Z+wPg4Uj0z8FjFJNHnfWP+WzbjBFPtM/\",\"dtype\":\"float64\",\"shape\":[48]},{\"__ndarray__\":\"5bNuMEU+0z8FjFJNHnfWP2fsD4OFI9M/WYdTPNbh1D+kEeWUbfrVP7kNM5+2NtM/VeNbzChC2D+SlaxkJSvZPz8ttvHTYts/+J6UYziY2z9OiTgIqVTbP26PYJInRdw/mYylUlre1j/AGfgQ0hbWP+qoJEUH99U/xv5KhPmw1j8w4THs1pfVP9ywvGrZ7NM/Or/2kMuK1T/1pNFC4FvUP+rlT1towNI/kZGRkZGR0T/cobodqtvRP6s7re60utM/xFIRS0Us1T+mlFJKKaXUPzWG5CehrtM/dQegUysS1j90NYBJEGXWP6Op82sPudg/1lkF4aU/1j+2s4fzRAraP/5bBz7mJto/m9OY/Blo2T9EVKCUDL/ZP9S8fGEmlNo/69Kf4PpX3z/oyGFGaKPdP3XiTtZB294/c5r0ooIA3T+2Y8jtGHLbP8l8aeIwVts/y5hr7Kzp1T+MKKds06/YPzzW4RSPddg/RUi1rANt1z9HqSaPO0vYPwhT5LNuMNU/\",\"dtype\":\"float64\",\"shape\":[48]},{\"__ndarray__\":\"CFPks24w1T9HqSaPO0vYP0VItawDbdc/PNbhFI912D+MKKds06/YP8uYa+ys6dU/yXxp4jBW2z+2Y8jtGHLbP3Oa9KKCAN0/deJO1kHb3j/oyGFGaKPdP+vSn+D6V98/1Lx8YSaU2j9EVKCUDL/ZP5vTmPwZaNk//lsHPuYm2j+2s4fzRAraP9ZZBeGlP9Y/o6nzaw+52D90NYBJEGXWP3UHoFMrEtY/NYbkJ6Gu0z+mlFJKKaXUP8RSEUtFLNU/xFIRS0Us1T8Q1e1Q3Q7VP8nkrhpD8tM/InnoDkCn1j+8+WIXKCDXP7/2kMuKgdo/yEli7+b81j+LKn5k41LbP9NiHKacuts/+PnQT+Sk2j832JcrAfTaP1eMB7Upmts/RCWTDYoW4D/X3xAl8QjeP0lO4lGa8d8/5MDSSQ4s3T++S7Pv0uzbP+7wcdQ8hds/BtkSb6c71j/wgntDEv/YPzjFYx1O8dg/Pz1uxv4w2D9HqSaPO0vYP37WDabIZ9U/\",\"dtype\":\"float64\",\"shape\":[48]},{\"__ndarray__\":\"ftYNpshn1T9HqSaPO0vYPz89bsb+MNg/OMVjHU7x2D/wgntDEv/YPwbZEm+nO9Y/7vBx1DyF2z++S7Pv0uzbP+TA0kkOLN0/SU7iUZrx3z/X3xAl8QjeP0Qlkw2KFuA/V4wHtSma2z832JcrAfTaP/j50E/kpNo/02Icppy62z+LKn5k41LbP8hJYu/m/NY/v/aQy4qB2j+8+WIXKCDXPyJ56A5Ap9Y/yeSuGkPy0z8Q1e1Q3Q7VP8RSEUtFLNU/xFIRS0Us1T8Q1e1Q3Q7VP8nkrhpD8tM/InnoDkCn1j+8+WIXKCDXP7/2kMuKgdo/yEli7+b81j9RxY9sXGrbP/tUj1YK0ds/+PnQT+Sk2j/hhlnqXf3aP085QOqJqts/RCWTDYoW4D/UKQIfZxveP5+dr0dmAuA/uV35BrdM3T8WmQGbuxXcPwpI+MmFqNs/hDRnlBNT1j+JmTD54RLZPzaLZLrNItk/PZ8eN2N/2D++P9cqG47YP/RZN5gin9U/\",\"dtype\":\"float64\",\"shape\":[48]},{\"__ndarray__\":\"9Fk3mCKf1T++P9cqG47YPz2fHjdjf9g/Notkus0i2T+JmTD54RLZP4Q0Z5QTU9Y/Ckj4yYWo2z8WmQGbuxXcP7ld+Qa3TN0/n52vR2YC4D/UKQIfZxveP0Qlkw2KFuA/TzlA6omq2z/hhlnqXf3aP/j50E/kpNo/+1SPVgrR2z9RxY9sXGrbP8hJYu/m/NY/v/aQy4qB2j+8+WIXKCDXPyJ56A5Ap9Y/yeSuGkPy0z8Q1e1Q3Q7VP8RSEUtFLNU/u2TtkrVL1j/0lyx/yfLXPxJxtC07INY//xcrdXsK2T9f7AIF5IbZP4Q3mjq/9tw/Xxeh1IG/2D8crSQmPIbdP/9zAmr3DN4/5kHaq9/23D/MXjQn7vbcP8rbKuEgz90/xaKnrQzT4D9AKT6/TgLgP+1/AeJXIuE/63cfJ1qu3z/oRz/60Y/eP5QLUTeDlt0/4Gz77spt2D/LXWNNskDdPxig8y8G6Nw/JxFSLetA2z9lIL0/1yrbP9gNpshn3dg/\",\"dtype\":\"float64\",\"shape\":[48]},{\"__ndarray__\":\"2A2myGfd2D9lIL0/1yrbPycRUi3rQNs/GKDzLwbo3D/LXWNNskDdP+Bs++7Kbdg/lAtRN4OW3T/oRz/60Y/eP+t3Hydart8/7X8B4lci4T9AKT6/TgLgP8Wip60M0+A/ytsq4SDP3T/MXjQn7vbcP+ZB2qvf9tw//3MCavcM3j8crSQmPIbdP18XodSBv9g/hDeaOr/23D9f7AIF5IbZP/8XK3V7Ctk/EnG0LTsg1j/0lyx/yfLXP7tk7ZK1S9Y/D5g9YPaA2T++isSrSLzaP5NQ18nkrto/Y5SpeK5Z3T+Bb1H5z/bdP/q1h1xWDOA/f6J7rfgB3T8con96LargP/qfE1C7Z+A/flrBUp9W4D/+F4p4LDjgP6b7gYjFeOA/uKCXoMY/4j8CTB9JS2rhP6rFjtgUX+I/Yjw9mKGK4T8IRShCEYrgPyW4dhpwfuA/6RwuHEqt2z8/XCKjwxjgP/7FAJ1/MeA/Fr8kQqpl3T/K484SdvPbP3AwRT7rBts/\",\"dtype\":\"float64\",\"shape\":[48]},{\"__ndarray__\":\"cDBFPusG2z/K484SdvPbPxa/JEKqZd0//sUAnX8x4D8/XCKjwxjgP+kcLhxKrds/Jbh2GnB+4D8IRShCEYrgP2I8PZihiuE/qsWO2BRf4j8CTB9JS2rhP7igl6DGP+I/pvuBiMV44D/+F4p4LDjgP35awVKfVuA/+p8TULtn4D8con96LargP3+ie634Ad0/+rWHXFYM4D+Bb1H5z/bdP2OUqXiuWd0/k1DXyeSu2j++isSrSLzaPw+YPWD2gNk/Dgc7HOxw4D/fDtXtUN3eP8gzXAutaeA/OkG4G/se4T8c5mUcDKfgP1DCG02dX+E/iIyBBLCL4D9D6aoDNzniP7st79868OE/bnlJQ1te4j/odYfTxz/iPyiERwEWFOM/vi79Ca5/5T/+HDnMCG3kPwPQvwO12+U//FHehY3A5D/sfbYlShjkP18rVJau6uM/7Dqy3nlK3z/51PCCe0PiP29QyNcbFOI//MNg4cic4D9RB3VQB3XgPwEAAAAAAOA/\",\"dtype\":\"float64\",\"shape\":[48]},{\"__ndarray__\":\"AQAAAAAA4D9RB3VQB3XgP/zDYOHInOA/b1DI1xsU4j/51PCCe0PiP+w6st55St8/XytUlq7q4z/sfbYlShjkP/xR3oWNwOQ/A9C/A7Xb5T/+HDnMCG3kP74u/Qmuf+U/KIRHARYU4z/odYfTxz/iP255SUNbXuI/uy3v3zrw4T9D6aoDNzniP4iMgQSwi+A/UMIbTZ1f4T8c5mUcDKfgPzpBuBv7HuE/yDNcC61p4D/fDtXtUN3ePw4HOxzscOA/////////7z8AAAAAAADwPwAAAAAAAPA/AAAAAAAA8D8AAAAAAADwPwAAAAAAAPA/AAAAAAAA8D8AAAAAAADwPwAAAAAAAPA/AAAAAAAA8D8AAAAAAADwPwAAAAAAAPA/AAAAAAAA8D8AAAAAAADwPwAAAAAAAPA/////////7z8AAAAAAADwPwAAAAAAAPA/AAAAAAAA8D8AAAAAAADwPwAAAAAAAPA/AAAAAAAA8D8AAAAAAADwPwAAAAAAAPA/\",\"dtype\":\"float64\",\"shape\":[48]}]},\"selected\":{\"id\":\"7b28e0f0-363e-4267-a403-c27e9a98db9f\",\"type\":\"Selection\"},\"selection_policy\":{\"id\":\"e856c3cd-2f4d-4131-aa99-30e43b0000ec\",\"type\":\"UnionRenderers\"}},\"id\":\"2c89dc78-6b5c-4c34-9a91-d7e1419adf44\",\"type\":\"ColumnDataSource\"},{\"attributes\":{},\"id\":\"924b07bf-ae24-4cff-b00c-8fcfa0b3b8ce\",\"type\":\"LinearScale\"},{\"attributes\":{\"dimension\":1,\"plot\":{\"id\":\"6b34e961-7058-453a-8e88-dd7203612c48\",\"subtype\":\"Figure\",\"type\":\"Plot\"},\"ticker\":{\"id\":\"d68b6efb-8c83-4c75-be8a-036fa5470ab3\",\"type\":\"BasicTicker\"}},\"id\":\"001917c0-1d92-47b2-ab8f-5069826e1bcd\",\"type\":\"Grid\"},{\"attributes\":{\"callback\":null,\"renderers\":\"auto\",\"tooltips\":\"@names\"},\"id\":\"245b3fd6-1dab-4abf-93ee-27b1f493cdeb\",\"type\":\"HoverTool\"},{\"attributes\":{\"callback\":null},\"id\":\"e96c5759-6984-45fe-9fd2-baccdbed5c3b\",\"type\":\"DataRange1d\"},{\"attributes\":{\"source\":{\"id\":\"2c89dc78-6b5c-4c34-9a91-d7e1419adf44\",\"type\":\"ColumnDataSource\"}},\"id\":\"66d11c00-1861-4c9c-89f0-d7956fd30928\",\"type\":\"CDSView\"},{\"attributes\":{},\"id\":\"be2aa355-ff67-4ce5-8b84-5a080f57589f\",\"type\":\"ResetTool\"},{\"attributes\":{},\"id\":\"d68b6efb-8c83-4c75-be8a-036fa5470ab3\",\"type\":\"BasicTicker\"},{\"attributes\":{},\"id\":\"9772171b-ef7c-46ec-873e-5a62e09cd14f\",\"type\":\"HelpTool\"},{\"attributes\":{\"fill_alpha\":{\"value\":0.1},\"fill_color\":{\"value\":\"#1f77b4\"},\"line_alpha\":{\"value\":0.1},\"line_color\":{\"value\":\"#1f77b4\"},\"xs\":{\"field\":\"xs\"},\"ys\":{\"field\":\"ys\"}},\"id\":\"7681b9c3-1ae6-46e9-b1aa-a787e60b5ee5\",\"type\":\"Patches\"},{\"attributes\":{\"active_drag\":\"auto\",\"active_inspect\":\"auto\",\"active_multi\":null,\"active_scroll\":\"auto\",\"active_tap\":\"auto\",\"tools\":[{\"id\":\"a66ac9d6-2b39-45ce-aa77-2e345dd2c6c7\",\"type\":\"PanTool\"},{\"id\":\"960e9151-a93a-4095-89fe-394d98d596e1\",\"type\":\"WheelZoomTool\"},{\"id\":\"58a1d262-a263-405e-a71a-bb31d85eabaf\",\"type\":\"BoxZoomTool\"},{\"id\":\"9fb809ff-d0e7-4f05-9bd6-50a00f417240\",\"type\":\"SaveTool\"},{\"id\":\"be2aa355-ff67-4ce5-8b84-5a080f57589f\",\"type\":\"ResetTool\"},{\"id\":\"9772171b-ef7c-46ec-873e-5a62e09cd14f\",\"type\":\"HelpTool\"},{\"id\":\"245b3fd6-1dab-4abf-93ee-27b1f493cdeb\",\"type\":\"HoverTool\"}]},\"id\":\"c48e1452-9053-4eba-a937-41485da17174\",\"type\":\"Toolbar\"},{\"attributes\":{\"label\":{\"field\":\"names\"},\"renderers\":[{\"id\":\"c32537b4-7889-4de8-acc3-b17d9da37b89\",\"type\":\"GlyphRenderer\"}]},\"id\":\"dd04679e-80ca-40f0-aa9e-1529794ff3a7\",\"type\":\"LegendItem\"},{\"attributes\":{\"items\":[{\"id\":\"dd04679e-80ca-40f0-aa9e-1529794ff3a7\",\"type\":\"LegendItem\"}],\"plot\":{\"id\":\"6b34e961-7058-453a-8e88-dd7203612c48\",\"subtype\":\"Figure\",\"type\":\"Plot\"}},\"id\":\"37f91d5c-726f-445d-9c2b-effa8b35a9cd\",\"type\":\"Legend\"},{\"attributes\":{\"fill_alpha\":{\"value\":0.7},\"fill_color\":{\"field\":\"col\"},\"line_alpha\":{\"value\":0.7},\"xs\":{\"field\":\"xs\"},\"ys\":{\"field\":\"ys\"}},\"id\":\"8753e9f0-4b08-40e1-98ea-d7f1a79080d6\",\"type\":\"Patches\"},{\"attributes\":{\"axis_label\":\"Proportion of Incidents\",\"formatter\":{\"id\":\"0c976e38-284f-4cea-844e-05fa623d9285\",\"type\":\"BasicTickFormatter\"},\"plot\":{\"id\":\"6b34e961-7058-453a-8e88-dd7203612c48\",\"subtype\":\"Figure\",\"type\":\"Plot\"},\"ticker\":{\"id\":\"d68b6efb-8c83-4c75-be8a-036fa5470ab3\",\"type\":\"BasicTicker\"}},\"id\":\"22cbf6b9-c20d-44fc-9d9d-5ddcae72d4e9\",\"type\":\"LinearAxis\"},{\"attributes\":{},\"id\":\"e856c3cd-2f4d-4131-aa99-30e43b0000ec\",\"type\":\"UnionRenderers\"},{\"attributes\":{\"bottom_units\":\"screen\",\"fill_alpha\":{\"value\":0.5},\"fill_color\":{\"value\":\"lightgrey\"},\"left_units\":\"screen\",\"level\":\"overlay\",\"line_alpha\":{\"value\":1.0},\"line_color\":{\"value\":\"black\"},\"line_dash\":[4,4],\"line_width\":{\"value\":2},\"plot\":null,\"render_mode\":\"css\",\"right_units\":\"screen\",\"top_units\":\"screen\"},\"id\":\"d58522ee-cb4d-4fac-b327-e957b80de429\",\"type\":\"BoxAnnotation\"},{\"attributes\":{\"below\":[{\"id\":\"455f5516-6218-461a-8092-46a89f336f0c\",\"type\":\"LinearAxis\"}],\"left\":[{\"id\":\"22cbf6b9-c20d-44fc-9d9d-5ddcae72d4e9\",\"type\":\"LinearAxis\"}],\"renderers\":[{\"id\":\"455f5516-6218-461a-8092-46a89f336f0c\",\"type\":\"LinearAxis\"},{\"id\":\"273e8376-9c07-40cb-897c-707d274c8cf0\",\"type\":\"Grid\"},{\"id\":\"22cbf6b9-c20d-44fc-9d9d-5ddcae72d4e9\",\"type\":\"LinearAxis\"},{\"id\":\"001917c0-1d92-47b2-ab8f-5069826e1bcd\",\"type\":\"Grid\"},{\"id\":\"d58522ee-cb4d-4fac-b327-e957b80de429\",\"type\":\"BoxAnnotation\"},{\"id\":\"37f91d5c-726f-445d-9c2b-effa8b35a9cd\",\"type\":\"Legend\"},{\"id\":\"c32537b4-7889-4de8-acc3-b17d9da37b89\",\"type\":\"GlyphRenderer\"}],\"title\":{\"id\":\"2d514cc1-e56a-4b0e-a3d5-75ac943dbaa6\",\"type\":\"Title\"},\"toolbar\":{\"id\":\"c48e1452-9053-4eba-a937-41485da17174\",\"type\":\"Toolbar\"},\"x_range\":{\"id\":\"af85adb1-3c1d-4bdd-aa0f-b24d8eb26350\",\"type\":\"DataRange1d\"},\"x_scale\":{\"id\":\"924b07bf-ae24-4cff-b00c-8fcfa0b3b8ce\",\"type\":\"LinearScale\"},\"y_range\":{\"id\":\"e96c5759-6984-45fe-9fd2-baccdbed5c3b\",\"type\":\"DataRange1d\"},\"y_scale\":{\"id\":\"f3a3e0d9-87a0-4347-b619-85a6b25b4564\",\"type\":\"LinearScale\"}},\"id\":\"6b34e961-7058-453a-8e88-dd7203612c48\",\"subtype\":\"Figure\",\"type\":\"Plot\"},{\"attributes\":{\"data_source\":{\"id\":\"2c89dc78-6b5c-4c34-9a91-d7e1419adf44\",\"type\":\"ColumnDataSource\"},\"glyph\":{\"id\":\"8753e9f0-4b08-40e1-98ea-d7f1a79080d6\",\"type\":\"Patches\"},\"hover_glyph\":null,\"muted_glyph\":null,\"nonselection_glyph\":{\"id\":\"7681b9c3-1ae6-46e9-b1aa-a787e60b5ee5\",\"type\":\"Patches\"},\"selection_glyph\":null,\"view\":{\"id\":\"66d11c00-1861-4c9c-89f0-d7956fd30928\",\"type\":\"CDSView\"}},\"id\":\"c32537b4-7889-4de8-acc3-b17d9da37b89\",\"type\":\"GlyphRenderer\"},{\"attributes\":{},\"id\":\"7b28e0f0-363e-4267-a403-c27e9a98db9f\",\"type\":\"Selection\"},{\"attributes\":{\"plot\":{\"id\":\"6b34e961-7058-453a-8e88-dd7203612c48\",\"subtype\":\"Figure\",\"type\":\"Plot\"},\"ticker\":{\"id\":\"374a9a1c-233b-44e2-b0fb-e13216f734fc\",\"type\":\"BasicTicker\"}},\"id\":\"273e8376-9c07-40cb-897c-707d274c8cf0\",\"type\":\"Grid\"},{\"attributes\":{},\"id\":\"960e9151-a93a-4095-89fe-394d98d596e1\",\"type\":\"WheelZoomTool\"},{\"attributes\":{\"plot\":null,\"text\":\"\"},\"id\":\"2d514cc1-e56a-4b0e-a3d5-75ac943dbaa6\",\"type\":\"Title\"},{\"attributes\":{},\"id\":\"f3a3e0d9-87a0-4347-b619-85a6b25b4564\",\"type\":\"LinearScale\"},{\"attributes\":{},\"id\":\"0c976e38-284f-4cea-844e-05fa623d9285\",\"type\":\"BasicTickFormatter\"},{\"attributes\":{\"overlay\":{\"id\":\"d58522ee-cb4d-4fac-b327-e957b80de429\",\"type\":\"BoxAnnotation\"}},\"id\":\"58a1d262-a263-405e-a71a-bb31d85eabaf\",\"type\":\"BoxZoomTool\"},{\"attributes\":{\"axis_label\":\"Time of Incident\",\"formatter\":{\"id\":\"cfa6c7aa-684d-405f-99ba-fa4c01ab34ca\",\"type\":\"FuncTickFormatter\"},\"plot\":{\"id\":\"6b34e961-7058-453a-8e88-dd7203612c48\",\"subtype\":\"Figure\",\"type\":\"Plot\"},\"ticker\":{\"id\":\"374a9a1c-233b-44e2-b0fb-e13216f734fc\",\"type\":\"BasicTicker\"}},\"id\":\"455f5516-6218-461a-8092-46a89f336f0c\",\"type\":\"LinearAxis\"},{\"attributes\":{\"code\":\"\\n    var s = \\\"0\\\" + ((tick%1)*60.0).toFixed(0);\\n    return (tick % 24).toFixed(0) + \\\":\\\" + s.substr(s.length-2);\\n\"},\"id\":\"cfa6c7aa-684d-405f-99ba-fa4c01ab34ca\",\"type\":\"FuncTickFormatter\"},{\"attributes\":{},\"id\":\"374a9a1c-233b-44e2-b0fb-e13216f734fc\",\"type\":\"BasicTicker\"},{\"attributes\":{\"callback\":null},\"id\":\"af85adb1-3c1d-4bdd-aa0f-b24d8eb26350\",\"type\":\"DataRange1d\"}],\"root_ids\":[\"6b34e961-7058-453a-8e88-dd7203612c48\"]},\"title\":\"Bokeh Application\",\"version\":\"0.13.0\"}};\n",
       "  var render_items = [{\"docid\":\"4ee28b69-4a17-48f4-84ee-f59cdd05523c\",\"roots\":{\"6b34e961-7058-453a-8e88-dd7203612c48\":\"4e1b2aff-e4b2-4798-8e35-5c995db7f81d\"}}];\n",
       "  root.Bokeh.embed.embed_items_notebook(docs_json, render_items);\n",
       "\n",
       "  }\n",
       "  if (root.Bokeh !== undefined) {\n",
       "    embed_document(root);\n",
       "  } else {\n",
       "    var attempts = 0;\n",
       "    var timer = setInterval(function(root) {\n",
       "      if (root.Bokeh !== undefined) {\n",
       "        embed_document(root);\n",
       "        clearInterval(timer);\n",
       "      }\n",
       "      attempts++;\n",
       "      if (attempts > 100) {\n",
       "        console.log(\"Bokeh: ERROR: Unable to run BokehJS code because BokehJS library is missing\")\n",
       "        clearInterval(timer);\n",
       "      }\n",
       "    }, 10, root)\n",
       "  }\n",
       "})(window);"
      ],
      "application/vnd.bokehjs_exec.v0+json": ""
     },
     "metadata": {
      "application/vnd.bokehjs_exec.v0+json": {
       "id": "6b34e961-7058-453a-8e88-dd7203612c48"
      }
     },
     "output_type": "display_data"
    }
   ],
   "source": [
    "import numpy as np\n",
    "from bokeh.palettes import brewer\n",
    "\n",
    "def  stacked(df):\n",
    "    df_top = df.cumsum(axis=1)\n",
    "    df_bottom = df_top.shift(axis=1).fillna(0)[::-1]\n",
    "    df_stack = pd.concat([df_bottom, df_top], ignore_index=True)\n",
    "    return df_stack\n",
    "\n",
    "df_stacked =  pd.DataFrame(data['incidntNum']).transpose()\n",
    "df_stacked.columns = data['categories']\n",
    "df_stacked = df_stacked.div(df_stacked.sum(axis=1), axis=0)\n",
    "\n",
    "areas = stacked(df_stacked)\n",
    "x2 = np.hstack((df_stacked.index[::-1], df_stacked.index))\n",
    "colors = brewer['Spectral'][areas.shape[1]]\n",
    "p = figure(tooltips='@names')\n",
    "\n",
    "stackedData = {\n",
    "    'xs' : [x2]*areas.shape[1],\n",
    "    'ys' : [areas[c].values for c in areas],\n",
    "    'col' : colors,\n",
    "    'names' : data['categories']\n",
    "}\n",
    "p.patches(xs='xs', ys='ys', color=\"col\",  alpha=0.7, line_color='black', legend=\"names\", source=stackedData)\n",
    "p.yaxis.axis_label = \"Proportion of Incidents\"\n",
    "p.xaxis.axis_label = \"Time of Incident\"\n",
    "p.xaxis[0].formatter = timeFormatter\n",
    "\n",
    "show(p)"
   ]
  },
  {
   "cell_type": "markdown",
   "metadata": {},
   "source": [
    "From the above graph it can be seen that  \"THEFT\" category takes a higher proportion of the incidents between 17:00 and 22:00. It can also be observed that the violent types \"ASSAULT\" and \"ROBBERY\" have higher proportions during the early morning 2:00am to 4:00am. It is difficult to observe much else from this graph and the relative proportions of the different categories remains at least visually constant."
   ]
  },
  {
   "cell_type": "markdown",
   "metadata": {},
   "source": [
    "## Conclusion\n",
    "\n",
    "In San Francisco during the summer of 2014 the peak time for incidents is 18:00. Violent types of incidents occur typically late at night but they account for little of the total number of incidents that the police deal with. Due to the high variety in incident types (which fall within the \"OTHER\" category) these occur throughout the day and shift the peak earlier. \"THEFT\" is major contributor to the number of incidents and occurs throughout the day peaking the early evening. "
   ]
  },
  {
   "cell_type": "code",
   "execution_count": null,
   "metadata": {},
   "outputs": [],
   "source": []
  }
 ],
 "metadata": {
  "kernelspec": {
   "display_name": "Python 3",
   "language": "python",
   "name": "python3"
  },
  "language_info": {
   "codemirror_mode": {
    "name": "ipython",
    "version": 3
   },
   "file_extension": ".py",
   "mimetype": "text/x-python",
   "name": "python",
   "nbconvert_exporter": "python",
   "pygments_lexer": "ipython3",
   "version": "3.6.4"
  }
 },
 "nbformat": 4,
 "nbformat_minor": 2
}
